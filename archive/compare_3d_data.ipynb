{
  "nbformat": 4,
  "nbformat_minor": 0,
  "metadata": {
    "colab": {
      "name": "compare_3d_data.ipynb",
      "provenance": [],
      "collapsed_sections": []
    },
    "kernelspec": {
      "name": "python3",
      "display_name": "Python 3"
    },
    "language_info": {
      "name": "python"
    }
  },
  "cells": [
    {
      "cell_type": "code",
      "source": [
        "#@title Install Packages\n",
        "!pip install SimpleITK\n",
        "!pip install skan\n",
        "!pip install tifffile"
      ],
      "metadata": {
        "cellView": "form",
        "id": "U0w4kTPb0cLy"
      },
      "execution_count": 34,
      "outputs": []
    },
    {
      "cell_type": "code",
      "source": [
        "#@title Copy Data from Google Drive\n",
        "!cp -r /content/drive/MyDrive/mydata/sea_urchin_data/3D/Segmentation /content/\n",
        "!cp -r \"/content/drive/MyDrive/mydata/sea_urchin_data/3D/Modello 1 Galleria Piastra.obj\" /content/"
      ],
      "metadata": {
        "cellView": "form",
        "id": "2IBqvkha01kG"
      },
      "execution_count": 32,
      "outputs": []
    },
    {
      "cell_type": "code",
      "source": [
        "#@title Import Packages\n",
        "import tifffile as tiff\n",
        "import matplotlib.pyplot as plt\n",
        "import numpy as np\n",
        "import os\n",
        "import cv2\n",
        "import SimpleITK as sitk\n",
        "import glob\n",
        "import plotly.express as px"
      ],
      "metadata": {
        "cellView": "form",
        "id": "-pJ_lq7q0ULr"
      },
      "execution_count": 49,
      "outputs": []
    },
    {
      "cell_type": "code",
      "source": [
        "#@title Define load_img_from_tiff(path2img)\n",
        "def load_img_from_tiff(path2img):\n",
        "    \"\"\"\n",
        "    Parameters\n",
        "    ----------\n",
        "    path2img: str \n",
        "        path to image Tiff file\n",
        "    \n",
        "    Returns\n",
        "    -------\n",
        "    img_array: np.array\n",
        "        image data in numpy format\n",
        "    \"\"\"\n",
        "    img = sitk.ReadImage(path2img)\n",
        "    img_array = sitk.GetArrayFromImage(img)\n",
        "    return(img_array)"
      ],
      "metadata": {
        "cellView": "form",
        "id": "VGDTLvRX0Q6a"
      },
      "execution_count": 4,
      "outputs": []
    },
    {
      "cell_type": "code",
      "execution_count": 7,
      "metadata": {
        "cellView": "code",
        "id": "-nqZ6tQ50NC4"
      },
      "outputs": [],
      "source": [
        "path = \"/content/drive/MyDrive/mydata/sea_urchin_data/3D/Galleria Piastra Modello 1 100x100 Echi1-10x.tif\"\n",
        "data = load_img_from_tiff(path)\n",
        "for i in range(len(data)):\n",
        "    data[i] = data[i]*(255.0/data[i].max())"
      ]
    },
    {
      "cell_type": "code",
      "source": [
        "blurred_data = np.zeros_like(data)\n",
        "for i in range(len(blurred_data)):\n",
        "    blurred_data[i] = cv2.GaussianBlur(data[i], (3,3),3)\n",
        "\n",
        "thresholded_data = np.zeros_like(data)\n",
        "for i in range(len(thresholded_data)):\n",
        "    bin, thresholded_data[i] = cv2.threshold(blurred_data[i],175, 255, cv2.THRESH_BINARY)"
      ],
      "metadata": {
        "id": "7i4dBxHl0sYo"
      },
      "execution_count": 27,
      "outputs": []
    },
    {
      "cell_type": "code",
      "source": [
        "filelist = glob.glob('Segmentation/*.tiff') \n",
        "filename_prefix = filelist[0][:-8]\n",
        "filename_suffix = filelist[0][-5:]\n",
        "number_ids=[]\n",
        "\n",
        "for i in range(len(filelist)):\n",
        "    number_ids.append(int(filelist[i][-8:-5]))\n",
        "    filelist[i] = filelist[i][-8:-5]\n",
        "\n",
        "filelist.sort()\n",
        "sorted_filelist=[]\n",
        "\n",
        "for j in range(len(filelist)):\n",
        "    sorted_filelist.append(filename_prefix+filelist[j]+filename_suffix)\n",
        "\n",
        "val_seg = np.array([plt.imread(fname) for fname in sorted_filelist])"
      ],
      "metadata": {
        "id": "E9IbsvY_0sva"
      },
      "execution_count": 28,
      "outputs": []
    },
    {
      "cell_type": "code",
      "source": [
        "seg_images = np.array([val_seg*255, thresholded_data, data])\n",
        "fig = px.imshow(seg_images, \n",
        "                facet_col=0,\n",
        "                animation_frame=1,\n",
        "                color_continuous_scale =\"gray\")\n",
        "\n",
        "for i, label in enumerate(['Seg3D', 'OpenCV (Python)', \"Raw\"]):\n",
        "    fig.layout.annotations[i]['text'] = label\n",
        "\n",
        "# fig.layout.template = 'plotly_dark'\n",
        "fig.show()"
      ],
      "metadata": {
        "id": "-Yp9gJiC1MTa"
      },
      "execution_count": null,
      "outputs": []
    },
    {
      "cell_type": "code",
      "source": [
        "tiff.imsave(\"threshold.tiff\", thresholded_data)\n",
        "test_data = load_img_from_tiff(\"threshold.tiff\")\n",
        "plt.imshow(test_data[0])"
      ],
      "metadata": {
        "id": "R--g1gi57U2Z"
      },
      "execution_count": null,
      "outputs": []
    }
  ]
}