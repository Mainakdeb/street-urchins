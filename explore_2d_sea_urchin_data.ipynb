{
  "nbformat": 4,
  "nbformat_minor": 0,
  "metadata": {
    "colab": {
      "name": "explore_2d_sea_urchin_data.ipynb",
      "provenance": [],
      "collapsed_sections": []
    },
    "kernelspec": {
      "name": "python3",
      "display_name": "Python 3"
    },
    "language_info": {
      "name": "python"
    }
  },
  "cells": [
    {
      "cell_type": "code",
      "metadata": {
        "id": "JwF9F7QvsSNE"
      },
      "source": [
        "!pip install SimpleITK"
      ],
      "execution_count": null,
      "outputs": []
    },
    {
      "cell_type": "code",
      "metadata": {
        "id": "yhc4TdvOsNEG"
      },
      "source": [
        "from PIL import Image\n",
        "import matplotlib.pyplot as plt\n",
        "import numpy as np\n",
        "import os\n",
        "import cv2\n",
        "import SimpleITK as sitk\n",
        "import plotly.express as px\n",
        "import plotly.graph_objects as go\n",
        "import math"
      ],
      "execution_count": 20,
      "outputs": []
    },
    {
      "cell_type": "code",
      "metadata": {
        "id": "hqbhdjtksVT0"
      },
      "source": [
        "def load_img_from_tiff(path2img):\n",
        "    img = sitk.ReadImage(path2img)\n",
        "    img_array = sitk.GetArrayFromImage(img)\n",
        "    return(img_array)"
      ],
      "execution_count": 3,
      "outputs": []
    },
    {
      "cell_type": "code",
      "metadata": {
        "id": "oMgdgRh5rjLT"
      },
      "source": [
        "path = \"/content/drive/MyDrive/mydata/sea_urchin_data/2D/11C1 top view.tif\"\n",
        "image_numpy=load_img_from_tiff(path)\n",
        "# px.imshow(255-image_numpy, color_continuous_scale='gray')\n",
        "px.imshow(image_numpy)"
      ],
      "execution_count": null,
      "outputs": []
    },
    {
      "cell_type": "code",
      "metadata": {
        "id": "r7I7sVL5y2fr"
      },
      "source": [
        "# adaptive threshold?\n",
        "ad_thresh=cv2.adaptiveThreshold(image_numpy,255,cv2.ADAPTIVE_THRESH_GAUSSIAN_C,cv2.THRESH_BINARY,41,2)\n",
        "#50 bin thresh work better??\n",
        "# px.imshow(ad_thresh, color_continuous_scale='gray')"
      ],
      "execution_count": 5,
      "outputs": []
    },
    {
      "cell_type": "code",
      "metadata": {
        "id": "EfBWobCrEoc4"
      },
      "source": [
        "contours, hierarcy = cv2.findContours(255-ad_thresh.copy(), cv2.RETR_EXTERNAL, cv2.CHAIN_APPROX_NONE)\n",
        "drawn_contours=cv2.drawContours(np.zeros_like(ad_thresh), contours, -1, (255), 1)\n",
        "px.imshow(drawn_contours, color_continuous_scale='gray')"
      ],
      "execution_count": null,
      "outputs": []
    },
    {
      "cell_type": "code",
      "metadata": {
        "id": "EkatSikOv0bL"
      },
      "source": [
        "comparision=cv2.drawContours(image_numpy.copy(), contours, -1, (255), 1)\n",
        "px.imshow(comparision, color_continuous_scale='gray')"
      ],
      "execution_count": null,
      "outputs": []
    },
    {
      "cell_type": "code",
      "metadata": {
        "id": "a9Jp6JlqxxbJ"
      },
      "source": [
        "blank=np.zeros_like(ad_thresh)\n",
        "for cnt in contours:\n",
        "\n",
        "    area = cv2.contourArea(cnt)\n",
        "    if area > 10:\n",
        "\n",
        "        M = cv2.moments(cnt)\n",
        "        cX = int(M[\"m10\"] / M[\"m00\"])\n",
        "        cY = int(M[\"m01\"] / M[\"m00\"])\n",
        "        centroids_and_conts=cv2.circle(comparision, (cX, cY), 1, (255, 255, 255),1)\n",
        "        centroids = cv2.circle(blank, (cX, cY), 1, (255, 255, 255),1)\n",
        "\n",
        "px.imshow(centroids_and_conts, color_continuous_scale='gray')"
      ],
      "execution_count": null,
      "outputs": []
    },
    {
      "cell_type": "code",
      "metadata": {
        "id": "DRPpCR895kn8"
      },
      "source": [
        "px.imshow(centroids, color_continuous_scale='gray')"
      ],
      "execution_count": null,
      "outputs": []
    },
    {
      "cell_type": "code",
      "metadata": {
        "id": "4YPuBPsgNf8p"
      },
      "source": [
        "perimeters=[]\n",
        "areas=[]\n",
        "for cnt in contours:\n",
        "    peri = cv2.arcLength(cnt, True)\n",
        "    area = cv2.contourArea(cnt)\n",
        "    perimeters.append(peri)\n",
        "    areas.append(area)\n",
        "\n",
        "area_circle_with_same_perimeter=[(i*i)/(4*math.pi) for i in perimeters]\n",
        "areas, area_circle_with_same_perimeter = zip(*sorted(zip(areas, area_circle_with_same_perimeter)))\n"
      ],
      "execution_count": 21,
      "outputs": []
    },
    {
      "cell_type": "code",
      "metadata": {
        "id": "njiV_UHdOMKJ"
      },
      "source": [
        "import plotly.graph_objects as go\n",
        "idx=[i for i in range(len(areas)//4)]\n",
        "\n",
        "fig = go.Figure(data=[\n",
        "    go.Bar(name='Area of polygon', x=idx, y=areas),\n",
        "    go.Bar(name='Area of circle of equivalent perimeter', x=idx, y=area_circle_with_same_perimeter)\n",
        "])\n",
        "# Change the bar mode\n",
        "fig.update_layout(title_text=\"Comparison - Areas of Pores Vs Areas of Circle of Equivalent Perimeter\", \n",
        "                  barmode='group', \n",
        "                  bargap=0.40, # gap between bars of adjacent location coordinates.\n",
        "                  bargroupgap=0.0) # gap between bars of the same location coordinate.\n",
        "fig.show()"
      ],
      "execution_count": null,
      "outputs": []
    },
    {
      "cell_type": "code",
      "metadata": {
        "id": "ME3_sv68sgeE"
      },
      "source": [
        "# radius\n",
        "# node map\n",
        "# area\n",
        "# area hole heatmap\n",
        "#"
      ],
      "execution_count": 10,
      "outputs": []
    }
  ]
}