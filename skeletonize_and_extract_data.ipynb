{
  "cells": [
    {
      "cell_type": "code",
      "execution_count": null,
      "metadata": {
        "id": "6VJXznzvYXj9"
      },
      "outputs": [],
      "source": [
        "!pip install SimpleITK\n",
        "!pip install skan \n",
        "!pip install tifffile"
      ]
    },
    {
      "cell_type": "code",
      "execution_count": null,
      "metadata": {
        "id": "05WGjzzsYXhu"
      },
      "outputs": [],
      "source": [
        "from google.colab import drive\n",
        "drive.mount('/content/drive')"
      ]
    },
    {
      "cell_type": "code",
      "execution_count": 3,
      "metadata": {
        "id": "Sa-Z9KfwYXct"
      },
      "outputs": [],
      "source": [
        "import SimpleITK as sitk\n",
        "from skimage.morphology import skeletonize, thin, medial_axis\n",
        "from skan import skeleton_to_csgraph, Skeleton\n",
        "from skan import summarize\n",
        "from skan import draw\n",
        "import tifffile as tiff\n",
        "\n",
        "import matplotlib.pyplot as plt\n",
        "import numpy as np\n",
        "import cv2\n",
        "import plotly.express as px\n",
        "import pandas as pd"
      ]
    },
    {
      "cell_type": "code",
      "execution_count": 4,
      "metadata": {
        "id": "JdtvRuYPYXaO"
      },
      "outputs": [],
      "source": [
        "def load_img_from_tiff(path2img):\n",
        "    \"\"\"\n",
        "    Parameters\n",
        "    ----------\n",
        "    path2img: str \n",
        "        path to image Tiff file\n",
        "    \n",
        "    Returns\n",
        "    -------\n",
        "    img_array: np.array\n",
        "        image data in numpy format\n",
        "    \"\"\"\n",
        "    img = sitk.ReadImage(path2img)\n",
        "    img_array = sitk.GetArrayFromImage(img)\n",
        "    return(img_array)"
      ]
    },
    {
      "cell_type": "markdown",
      "metadata": {
        "id": "05ysUVVFpFus"
      },
      "source": [
        "# 2D Analysis"
      ]
    },
    {
      "cell_type": "code",
      "execution_count": 5,
      "metadata": {
        "id": "MOOu1ofIYXXT"
      },
      "outputs": [],
      "source": [
        "single_thresh = load_img_from_tiff(\"/content/drive/MyDrive/mydata/sea_urchin_data/Test n.1\")\n",
        "# single_thresh = cv2.resize(single_thresh, dsize=(256,256), interpolation=cv2.INTER_CUBIC)\n",
        "\n",
        "single_thresh = single_thresh.astype('float64')\n",
        "single_thresh = (single_thresh - np.min(single_thresh))/np.ptp(single_thresh)\n",
        "skimage_skeleton, dist = medial_axis(single_thresh, return_distance=True)\n",
        "skan_skeleton = Skeleton(dist*skimage_skeleton)\n",
        "df=summarize(skan_skeleton)"
      ]
    },
    {
      "cell_type": "markdown",
      "source": [
        "### filter nodes\n",
        "The branch-type is coded by number as:\n",
        "0. endpoint-to-endpoint (isolated branch)\n",
        "1. junction-to-endpoint\n",
        "2. junction-to-junction\n",
        "3. isolated cycle\n"
      ],
      "metadata": {
        "id": "6HneHq9lnA2v"
      }
    },
    {
      "cell_type": "code",
      "source": [
        "# df.drop(df[df[\"branch-type\"] < 2].index, inplace=True)\n",
        "# df.drop(df[df[\"branch-type\"] == 3].index, inplace=True)"
      ],
      "metadata": {
        "id": "4ANOFnakm3Zf"
      },
      "execution_count": 6,
      "outputs": []
    },
    {
      "cell_type": "code",
      "execution_count": 8,
      "metadata": {
        "id": "MLDQ0hxDpIue"
      },
      "outputs": [],
      "source": [
        "#rename columns:\n",
        "df = df.rename(columns={'image-coord-src-0': 'src-y', \n",
        "                        'image-coord-src-1': 'src-x',\n",
        "                        'image-coord-dst-0': 'dst-y',\n",
        "                        'image-coord-dst-1': 'dst-x',\n",
        "                        'mean-pixel-value': 'thickness'})\n",
        "\n",
        "#drop columns\n",
        "df.drop([#'mean-pixel-value',\n",
        "         'stdev-pixel-value',\n",
        "         'coord-src-0',\n",
        "         'coord-src-1',\n",
        "         'coord-dst-0',\n",
        "         'coord-dst-1'], axis=1, inplace=True)"
      ]
    },
    {
      "cell_type": "code",
      "execution_count": 9,
      "metadata": {
        "id": "-eKht0bZ1_6t"
      },
      "outputs": [],
      "source": [
        "def get_slope(x1, y1, x2, y2):\n",
        "    if x1==x2:\n",
        "        return \"\"\n",
        "    m = (y2-y1)/(x2-x1)\n",
        "    return m\n",
        "\n",
        "#initiate blank columns\n",
        "df[\"slope\"] = 0\n",
        "df[\"tortuosity\"] = 0\n",
        "\n",
        "#compute and assign values of slope and tortuosity\n",
        "for index, row in df.iterrows():\n",
        "    df.loc[index, 'slope']=get_slope(row[\"src-x\"], row[\"src-y\"], row[\"dst-x\"], row[\"dst-y\"])\n",
        "    df.loc[index, 'tortuosity']=row[\"branch-distance\"]/row[\"euclidean-distance\"]\n",
        "\n",
        "df.to_csv(\"single_summary.csv\")"
      ]
    },
    {
      "cell_type": "code",
      "source": [
        "df.tail()"
      ],
      "metadata": {
        "id": "Uyj1cs7tpP9-"
      },
      "execution_count": null,
      "outputs": []
    },
    {
      "cell_type": "code",
      "source": [
        "branches = pd.DataFrame(df['thickness'])\n",
        "branches['source_node_id']=df['node-id-src']\n",
        "branches['destination_node_id']=df['node-id-dst']\n",
        "branches.to_csv(\"branches_filtered.csv\", index=False)\n",
        "branches.tail()"
      ],
      "metadata": {
        "id": "pAThcfOfo7zm"
      },
      "execution_count": null,
      "outputs": []
    },
    {
      "cell_type": "code",
      "execution_count": 12,
      "metadata": {
        "id": "XXoNOa4b9gZN"
      },
      "outputs": [],
      "source": [
        "nodes_1 = pd.DataFrame(df[\"node-id-src\"])\n",
        "nodes_2=pd.DataFrame(df[\"node-id-dst\"])\n",
        "\n",
        "nodes_1 = nodes_1.rename(columns={'node-id-src': 'node_id'})\n",
        "nodes_2 = nodes_2.rename(columns={'node-id-dst': 'node_id'})\n",
        "\n",
        "nodes_1[\"node_coordinate_x\"]=df['src-x']\n",
        "nodes_1[\"node_coordinate_y\"]=df['src-y']\n",
        "\n",
        "nodes_2[\"node_coordinate_x\"]=df['dst-x']\n",
        "nodes_2[\"node_coordinate_y\"]=df['dst-y']\n",
        "\n",
        "final_nodes=nodes_1.append(nodes_2)\n",
        "\n",
        "final_nodes=final_nodes.drop_duplicates(subset=['node_id',], keep='last').reset_index()\n",
        "final_nodes = final_nodes.drop(['index'], axis=1)\n",
        "final_nodes\n",
        "\n",
        "final_nodes.to_csv(\"nodes_filtered.csv\", index=False)"
      ]
    },
    {
      "cell_type": "code",
      "execution_count": 13,
      "metadata": {
        "id": "BHAe3zBGB6on"
      },
      "outputs": [],
      "source": [
        "# generate_node_image (includes dst nodes)\n",
        "xs_=np.array(final_nodes['node_coordinate_x'])\n",
        "ys_=np.array(final_nodes['node_coordinate_y'])\n",
        "node_image = np.zeros([305,305], dtype=np.uint8)\n",
        "# print(node_image.shape)\n",
        "node_image[ys_.astype(np.uint16), xs_.astype(np.uint16)] = 4."
      ]
    },
    {
      "cell_type": "code",
      "execution_count": null,
      "metadata": {
        "id": "BsbtnBvmb0sF"
      },
      "outputs": [],
      "source": [
        "#compute porosity\n",
        "def compute_porosity_2d(img):\n",
        "    number_of_white_pix = np.sum(img == 1)  \n",
        "    number_of_black_pix = np.sum(img == 0)\n",
        "    porosity=number_of_black_pix/(number_of_white_pix+number_of_black_pix)\n",
        "    return(porosity)\n",
        "\n",
        "compute_porosity_2d(single_thresh)"
      ]
    },
    {
      "cell_type": "code",
      "execution_count": null,
      "metadata": {
        "id": "gWGFXuWApIsV"
      },
      "outputs": [],
      "source": [
        "plt.rcParams[\"figure.figsize\"] = (20,20)\n",
        "f, axarr = plt.subplots(2,2)\n",
        "\n",
        "axarr[0,0].imshow(single_thresh+skimage_skeleton, cmap='jet')\n",
        "axarr[0,0].set_title(\"Medial Axis Skeleton\")\n",
        "axarr[0,1].imshow(node_image+skimage_skeleton+single_thresh, cmap='inferno')\n",
        "axarr[0,1].set_title(\"Branch Nodes\")\n",
        "axarr[1,0].imshow(dist)\n",
        "axarr[1,0].set_title(\"Distance from nearest void\")\n",
        "axarr[1,1].imshow(dist*skimage_skeleton+single_thresh)\n",
        "axarr[1,1].set_title(\"Distance from nearest void (skeleton)\")"
      ]
    },
    {
      "cell_type": "code",
      "source": [
        "#branch path coords and thicknesses -> csv\n",
        "branch_path_coords=[]\n",
        "\n",
        "branch_thics=skan_skeleton.path_means()\n",
        "\n",
        "for i in range(len(branch_thics)):\n",
        "    path_arr=skan_skeleton.path_coordinates(i).tolist()\n",
        "    # print(path_arr.tolist())\n",
        "    #replace newlines**** w commas\n",
        "    branch_path_coords.append(path_arr)\n",
        "    # break\n",
        "\n",
        "branch_path_coords_and_thickness=pd.DataFrame(branch_thics, columns=['thickness'])\n",
        "branch_path_coords_and_thickness['path_coordinates']=branch_path_coords\n",
        "# branch_path_coords_and_thickness['thickness']=branch_thics\n",
        "\n",
        "branch_path_coords_and_thickness"
      ],
      "metadata": {
        "id": "4V0MhA6UZCFJ"
      },
      "execution_count": null,
      "outputs": []
    },
    {
      "cell_type": "code",
      "source": [
        "branch_path_coords_and_thickness.to_csv(\"branch_path_coords_and_thickness.csv\", index=False)"
      ],
      "metadata": {
        "id": "SZlcO-rievWU"
      },
      "execution_count": 34,
      "outputs": []
    },
    {
      "cell_type": "markdown",
      "metadata": {
        "id": "lU4dxfV2NkQc"
      },
      "source": [
        "# 3D Analysis \n",
        "\n"
      ]
    },
    {
      "cell_type": "code",
      "execution_count": null,
      "metadata": {
        "id": "zYnBv7LNYXU0"
      },
      "outputs": [],
      "source": [
        "path = \"/content/drive/MyDrive/mydata/sea_urchin_data/3D/Galleria Piastra Modello 1 100x100 Echi1-10x.tif\"\n",
        "data = load_img_from_tiff(path)\n",
        "for i in range(len(data)):\n",
        "    data[i] = data[i]*(255.0/data[i].max())"
      ]
    },
    {
      "cell_type": "code",
      "execution_count": null,
      "metadata": {
        "id": "0_RPugMhYXSk"
      },
      "outputs": [],
      "source": [
        "blurred_data = np.zeros_like(data)\n",
        "for i in range(len(blurred_data)):\n",
        "    blurred_data[i] = cv2.GaussianBlur(data[i], (3,3),3)\n",
        "\n",
        "thresholded_data = np.zeros_like(data)\n",
        "for i in range(len(thresholded_data)):\n",
        "    bin, thresholded_data[i] = cv2.threshold(blurred_data[i],175, 255, cv2.THRESH_BINARY)\n",
        "\n",
        "medial_axis_skel = np.zeros_like(data)\n",
        "for i in range(len(thresholded_data)):\n",
        "    # skel, distance = medial_axis(thresholded_data[i], return_distance=True)\n",
        "    # dist_on_skel = distance * skel\n",
        "    # medial_axis_skel[i]=skel\n",
        "    skel = skeletonize(thresholded_data[i]//255)\n",
        "    medial_axis_skel[i]=skel"
      ]
    },
    {
      "cell_type": "code",
      "execution_count": null,
      "metadata": {
        "id": "1YQBUZUVNoYr"
      },
      "outputs": [],
      "source": [
        "skan_skel = Skeleton(medial_axis_skel)\n",
        "df=summarize(skan_skel)\n",
        "df.to_csv(\"z_slices_summary.csv\")\n",
        "#drop brances with length < 2\n",
        "# df.drop(df[df[\"branch-distance\"] < 2].index, inplace=True)\n",
        "df"
      ]
    },
    {
      "cell_type": "code",
      "execution_count": null,
      "metadata": {
        "id": "QqkxTn74Ywup"
      },
      "outputs": [],
      "source": [
        ""
      ]
    }
  ],
  "metadata": {
    "colab": {
      "collapsed_sections": [],
      "name": "skeletonize_and_extract_data.ipynb",
      "provenance": []
    },
    "kernelspec": {
      "display_name": "Python 3",
      "name": "python3"
    },
    "language_info": {
      "name": "python"
    }
  },
  "nbformat": 4,
  "nbformat_minor": 0
}