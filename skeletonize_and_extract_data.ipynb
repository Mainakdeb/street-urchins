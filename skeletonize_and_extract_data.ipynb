{
  "nbformat": 4,
  "nbformat_minor": 0,
  "metadata": {
    "colab": {
      "name": "skeletonize_and_extract_data.ipynb",
      "provenance": [],
      "collapsed_sections": []
    },
    "kernelspec": {
      "name": "python3",
      "display_name": "Python 3"
    },
    "language_info": {
      "name": "python"
    }
  },
  "cells": [
    {
      "cell_type": "markdown",
      "source": [
        "# Skeletonize and export data\n",
        "\n",
        "\n",
        "\n"
      ],
      "metadata": {
        "id": "NUqD8s79SO3_"
      }
    },
    {
      "cell_type": "code",
      "execution_count": null,
      "metadata": {
        "id": "aWRaWk-KSM5q"
      },
      "outputs": [],
      "source": [
        "!pip install SimpleITK\n",
        "!pip install skan #older version\n",
        "!pip install tifffile"
      ]
    },
    {
      "cell_type": "code",
      "source": [
        "from google.colab import drive\n",
        "drive.mount('/content/drive')"
      ],
      "metadata": {
        "id": "f_0Qnr7wUAEX"
      },
      "execution_count": null,
      "outputs": []
    },
    {
      "cell_type": "code",
      "source": [
        "import SimpleITK as sitk\n",
        "from skimage.morphology import skeletonize, thin, medial_axis\n",
        "from skan import skeleton_to_csgraph, Skeleton\n",
        "from skan import summarize\n",
        "from skan import draw\n",
        "import tifffile as tiff\n",
        "\n",
        "import matplotlib.pyplot as plt\n",
        "import numpy as np\n",
        "import cv2"
      ],
      "metadata": {
        "id": "uaT_e2nESfa-"
      },
      "execution_count": 3,
      "outputs": []
    },
    {
      "cell_type": "code",
      "source": [
        "def load_img_from_tiff(path2img):\n",
        "    \"\"\"\n",
        "    Parameters\n",
        "    ----------\n",
        "    path2img: str \n",
        "        path to image Tiff file\n",
        "    \n",
        "    Returns\n",
        "    -------\n",
        "    img_array: np.array\n",
        "        image data in numpy format\n",
        "    \"\"\"\n",
        "    img = sitk.ReadImage(path2img)\n",
        "    img_array = sitk.GetArrayFromImage(img)\n",
        "    return(img_array)"
      ],
      "metadata": {
        "id": "TH7htfJTSVzP"
      },
      "execution_count": 4,
      "outputs": []
    },
    {
      "cell_type": "markdown",
      "source": [
        "Skeletonize single frame"
      ],
      "metadata": {
        "id": "oUVRCBEbSvcM"
      }
    },
    {
      "cell_type": "code",
      "source": [
        "single_thresh = load_img_from_tiff(\"/content/Test n.1\")\n",
        "\n",
        "# single_thresh = cv2.resize(single_thresh, dsize=(256,256), interpolation=cv2.INTER_CUBIC)\n",
        "\n",
        "single_thresh = single_thresh.astype('float64')\n",
        "single_thresh = (single_thresh - np.min(single_thresh))/np.ptp(single_thresh)\n",
        "skimage_skeleton = skeletonize(single_thresh)\n",
        "skan_skeleton = Skeleton(skimage_skeleton)\n",
        "df=summarize(skan_skeleton)\n",
        "# df.drop(df[df[\"branch-type\"] < 2].index, inplace=True)"
      ],
      "metadata": {
        "id": "uVC5AHM0SuA-"
      },
      "execution_count": 44,
      "outputs": []
    },
    {
      "cell_type": "code",
      "source": [
        "#rename columns:\n",
        "df = df.rename(columns={'image-coord-src-0': 'src-y', \n",
        "                        'image-coord-src-1': 'src-x',\n",
        "                        'image-coord-dst-0': 'dst-y',\n",
        "                        'image-coord-dst-1': 'dst-x'})\n",
        "\n",
        "df.drop(['mean-pixel-value',\n",
        "         'stdev-pixel-value',\n",
        "         'coord-src-0',\n",
        "         'coord-src-1',\n",
        "         'coord-dst-0',\n",
        "         'coord-dst-1'], axis=1, inplace=True)\n",
        "df.head()\n",
        "df.to_csv(\"single_summary.csv\")"
      ],
      "metadata": {
        "id": "JL9p9S3xVqFk"
      },
      "execution_count": 45,
      "outputs": []
    },
    {
      "cell_type": "code",
      "source": [
        "fig, ax = plt.subplots()\n",
        "plt.rcParams[\"figure.figsize\"] = (15,15)\n",
        "# draw.overlay_skeleton_2d(single_thresh, skimage_skeleton, dilate=1, axes=ax);\n",
        "plt.imshow(single_thresh+skimage_skeleton, cmap='jet')\n",
        "# plt.axis(\"off\")\n",
        "plt.title(\"Overlayed Skeleton\")"
      ],
      "metadata": {
        "id": "9wdUR5vjW8Qh"
      },
      "execution_count": null,
      "outputs": []
    },
    {
      "cell_type": "code",
      "source": [
        "#overlay nodes \n",
        "plt.rcParams[\"figure.figsize\"] = (10,10)\n",
        "res_st = cv2.resize(single_thresh, dsize=(256,256), interpolation=cv2.INTER_CUBIC)\n",
        "xs=np.array(df['src-x'])\n",
        "ys=np.array(df['src-y'])\n",
        "node_image = np.zeros([305,305], dtype=np.uint8)\n",
        "# print(node_image.shape)\n",
        "node_image[ys.astype(np.uint16), xs.astype(np.uint16)] = 4.\n",
        "plt.imshow(node_image+skimage_skeleton+single_thresh)\n",
        "plt.title(\"Overlayed Skeleton and Nodes\")\n",
        "# plt.scatter(ys,xs)"
      ],
      "metadata": {
        "id": "4G8gfSlni-dD"
      },
      "execution_count": null,
      "outputs": []
    },
    {
      "cell_type": "markdown",
      "source": [
        "Skeletonize multiple Z slices"
      ],
      "metadata": {
        "id": "jApVo6uzYebB"
      }
    },
    {
      "cell_type": "code",
      "source": [
        "path = \"/content/drive/MyDrive/mydata/sea_urchin_data/3D/Galleria Piastra Modello 1 100x100 Echi1-10x.tif\"\n",
        "data = load_img_from_tiff(path)\n",
        "for i in range(len(data)):\n",
        "    data[i] = data[i]*(255.0/data[i].max())"
      ],
      "metadata": {
        "id": "d1wMlpqIXjgv"
      },
      "execution_count": null,
      "outputs": []
    },
    {
      "cell_type": "code",
      "source": [
        "blurred_data = np.zeros_like(data)\n",
        "for i in range(len(blurred_data)):\n",
        "    blurred_data[i] = cv2.GaussianBlur(data[i], (3,3),3)\n",
        "\n",
        "thresholded_data = np.zeros_like(data)\n",
        "for i in range(len(thresholded_data)):\n",
        "    bin, thresholded_data[i] = cv2.threshold(blurred_data[i],175, 255, cv2.THRESH_BINARY)\n",
        "\n",
        "medial_axis_skel = np.zeros_like(data)\n",
        "for i in range(len(thresholded_data)):\n",
        "    # skel, distance = medial_axis(thresholded_data[i], return_distance=True)\n",
        "    # dist_on_skel = distance * skel\n",
        "    # medial_axis_skel[i]=skel\n",
        "    skel = skeletonize(thresholded_data[i]//255)\n",
        "    medial_axis_skel[i]=skel"
      ],
      "metadata": {
        "id": "C50PHcVqYn7Q"
      },
      "execution_count": null,
      "outputs": []
    },
    {
      "cell_type": "code",
      "source": [
        "skan_skel = Skeleton(medial_axis_skel)\n",
        "df=summarize(skan_skel)\n",
        "df.to_csv(\"z_slices_summary.csv\")\n",
        "#drop brances with length < 2\n",
        "# df.drop(df[df[\"branch-distance\"] < 2].index, inplace=True)\n",
        "df"
      ],
      "metadata": {
        "id": "HSJwjWR-YqZH"
      },
      "execution_count": null,
      "outputs": []
    },
    {
      "cell_type": "code",
      "source": [
        ""
      ],
      "metadata": {
        "id": "fdnga81nY_Fv"
      },
      "execution_count": null,
      "outputs": []
    }
  ]
}