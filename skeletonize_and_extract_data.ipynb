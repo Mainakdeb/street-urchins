{
  "cells": [
    {
      "cell_type": "code",
      "execution_count": 32,
      "metadata": {
        "id": "6VJXznzvYXj9",
        "colab": {
          "base_uri": "https://localhost:8080/"
        },
        "outputId": "b23ae391-3211-45b8-b932-7cf71671a58d"
      },
      "outputs": [
        {
          "output_type": "stream",
          "name": "stdout",
          "text": [
            "Requirement already satisfied: plotly==5.3.1 in /usr/local/lib/python3.7/dist-packages (5.3.1)\n",
            "Requirement already satisfied: six in /usr/local/lib/python3.7/dist-packages (from plotly==5.3.1) (1.15.0)\n",
            "Requirement already satisfied: tenacity>=6.2.0 in /usr/local/lib/python3.7/dist-packages (from plotly==5.3.1) (8.0.1)\n"
          ]
        }
      ],
      "source": [
        "!pip install SimpleITK\n",
        "!pip install skan \n",
        "!pip install tifffile\n",
        "!pip install plotly==5.3.1\n",
        "# !pip install scikit-image==0.19.1"
      ]
    },
    {
      "cell_type": "code",
      "execution_count": null,
      "metadata": {
        "id": "05WGjzzsYXhu"
      },
      "outputs": [],
      "source": [
        "from google.colab import drive\n",
        "drive.mount('/content/drive')"
      ]
    },
    {
      "cell_type": "code",
      "execution_count": null,
      "metadata": {
        "id": "Sa-Z9KfwYXct"
      },
      "outputs": [],
      "source": [
        "import SimpleITK as sitk\n",
        "from skimage.morphology import skeletonize, thin, medial_axis, skeletonize_3d\n",
        "from scipy import ndimage\n",
        "from skan import skeleton_to_csgraph, Skeleton\n",
        "from skan import summarize\n",
        "from skan import draw\n",
        "import tifffile as tiff\n",
        "\n",
        "import matplotlib.pyplot as plt\n",
        "from mpl_toolkits.mplot3d import Axes3D\n",
        "import numpy as np\n",
        "import cv2\n",
        "import plotly.express as px\n",
        "import plotly.graph_objects as go\n",
        "import pandas as pd\n",
        "import glob\n"
      ]
    },
    {
      "cell_type": "code",
      "execution_count": null,
      "metadata": {
        "id": "JdtvRuYPYXaO"
      },
      "outputs": [],
      "source": [
        "def load_img_from_tiff(path2img):\n",
        "    \"\"\"\n",
        "    Parameters\n",
        "    ----------\n",
        "    path2img: str \n",
        "        path to image Tiff file\n",
        "    \n",
        "    Returns\n",
        "    -------\n",
        "    img_array: np.array\n",
        "        image data in numpy format\n",
        "    \"\"\"\n",
        "    img = sitk.ReadImage(path2img)\n",
        "    img_array = sitk.GetArrayFromImage(img)\n",
        "    return(img_array)"
      ]
    },
    {
      "cell_type": "markdown",
      "metadata": {
        "id": "05ysUVVFpFus"
      },
      "source": [
        "# 2D Analysis"
      ]
    },
    {
      "cell_type": "code",
      "execution_count": null,
      "metadata": {
        "id": "MOOu1ofIYXXT"
      },
      "outputs": [],
      "source": [
        "single_thresh = load_img_from_tiff(\"/content/drive/MyDrive/mydata/sea_urchin_data/Test n.1\")\n",
        "# single_thresh = cv2.resize(single_thresh, dsize=(256,256), interpolation=cv2.INTER_CUBIC)\n",
        "\n",
        "single_thresh = single_thresh.astype('float64')\n",
        "single_thresh = (single_thresh - np.min(single_thresh))/np.ptp(single_thresh)\n",
        "skimage_skeleton, dist = medial_axis(single_thresh, return_distance=True)\n",
        "skan_skeleton = Skeleton(dist*skimage_skeleton)\n",
        "\n",
        "lee94_skimage_skeleton = skeletonize(single_thresh, method='lee')\n",
        "lee94_skimage_skeleton=lee94_skimage_skeleton/255\n",
        "lee_skan_skeleton=Skeleton(dist*lee94_skimage_skeleton)\n",
        "df=summarize(lee_skan_skeleton)"
      ]
    },
    {
      "cell_type": "markdown",
      "source": [
        "### filter nodes\n",
        "The branch-type is coded by number as:\n",
        "0. endpoint-to-endpoint (isolated branch)\n",
        "1. junction-to-endpoint\n",
        "2. junction-to-junction\n",
        "3. isolated cycle\n"
      ],
      "metadata": {
        "id": "6HneHq9lnA2v"
      }
    },
    {
      "cell_type": "code",
      "source": [
        "# df.drop(df[df[\"branch-type\"] < 2].index, inplace=True)\n",
        "# df.drop(df[df[\"branch-type\"] == 3].index, inplace=True)"
      ],
      "metadata": {
        "id": "4ANOFnakm3Zf"
      },
      "execution_count": null,
      "outputs": []
    },
    {
      "cell_type": "code",
      "execution_count": null,
      "metadata": {
        "id": "MLDQ0hxDpIue"
      },
      "outputs": [],
      "source": [
        "#rename columns:\n",
        "df = df.rename(columns={'image-coord-src-0': 'src-y', \n",
        "                        'image-coord-src-1': 'src-x',\n",
        "                        'image-coord-dst-0': 'dst-y',\n",
        "                        'image-coord-dst-1': 'dst-x',\n",
        "                        'mean-pixel-value': 'thickness'})\n",
        "\n",
        "#drop columns\n",
        "df.drop([#'mean-pixel-value',\n",
        "         'stdev-pixel-value',\n",
        "         'coord-src-0',\n",
        "         'coord-src-1',\n",
        "         'coord-dst-0',\n",
        "         'coord-dst-1'], axis=1, inplace=True)"
      ]
    },
    {
      "cell_type": "code",
      "execution_count": null,
      "metadata": {
        "id": "-eKht0bZ1_6t"
      },
      "outputs": [],
      "source": [
        "def get_slope(x1, y1, x2, y2):\n",
        "    if x1==x2:\n",
        "        return \"\"\n",
        "    m = (y2-y1)/(x2-x1)\n",
        "    return m\n",
        "\n",
        "#initiate blank columns\n",
        "df[\"slope\"] = 0\n",
        "df[\"tortuosity\"] = 0\n",
        "\n",
        "#compute and assign values of slope and tortuosity\n",
        "for index, row in df.iterrows():\n",
        "    df.loc[index, 'slope']=get_slope(row[\"src-x\"], row[\"src-y\"], row[\"dst-x\"], row[\"dst-y\"])\n",
        "    df.loc[index, 'tortuosity']=row[\"branch-distance\"]/row[\"euclidean-distance\"]\n",
        "\n",
        "df.to_csv(\"single_summary.csv\")"
      ]
    },
    {
      "cell_type": "code",
      "source": [
        "df.tail()"
      ],
      "metadata": {
        "id": "Uyj1cs7tpP9-"
      },
      "execution_count": null,
      "outputs": []
    },
    {
      "cell_type": "code",
      "source": [
        "branches = pd.DataFrame(df['thickness'])\n",
        "branches['source_node_id']=df['node-id-src']\n",
        "branches['destination_node_id']=df['node-id-dst']\n",
        "branches.to_csv(\"branches_lee.csv\", index=False)\n",
        "branches.tail()"
      ],
      "metadata": {
        "id": "pAThcfOfo7zm"
      },
      "execution_count": null,
      "outputs": []
    },
    {
      "cell_type": "code",
      "execution_count": null,
      "metadata": {
        "id": "XXoNOa4b9gZN"
      },
      "outputs": [],
      "source": [
        "nodes_1 = pd.DataFrame(df[\"node-id-src\"])\n",
        "nodes_2=pd.DataFrame(df[\"node-id-dst\"])\n",
        "\n",
        "nodes_1 = nodes_1.rename(columns={'node-id-src': 'node_id'})\n",
        "nodes_2 = nodes_2.rename(columns={'node-id-dst': 'node_id'})\n",
        "\n",
        "nodes_1[\"node_coordinate_x\"]=df['src-x']\n",
        "nodes_1[\"node_coordinate_y\"]=df['src-y']\n",
        "\n",
        "nodes_2[\"node_coordinate_x\"]=df['dst-x']\n",
        "nodes_2[\"node_coordinate_y\"]=df['dst-y']\n",
        "\n",
        "final_nodes=nodes_1.append(nodes_2)\n",
        "\n",
        "final_nodes=final_nodes.drop_duplicates(subset=['node_id',], keep='last').reset_index()\n",
        "final_nodes = final_nodes.drop(['index'], axis=1)\n",
        "final_nodes\n",
        "\n",
        "final_nodes.to_csv(\"nodes_lee.csv\", index=False)\n"
      ]
    },
    {
      "cell_type": "code",
      "execution_count": null,
      "metadata": {
        "id": "BHAe3zBGB6on"
      },
      "outputs": [],
      "source": [
        "# generate_node_image (includes dst nodes)\n",
        "xs_=np.array(final_nodes['node_coordinate_x'])\n",
        "ys_=np.array(final_nodes['node_coordinate_y'])\n",
        "node_image = np.zeros([305,305], dtype=np.uint8)\n",
        "# print(node_image.shape)\n",
        "node_image[ys_.astype(np.uint16), xs_.astype(np.uint16)] = 4."
      ]
    },
    {
      "cell_type": "code",
      "execution_count": null,
      "metadata": {
        "id": "BsbtnBvmb0sF"
      },
      "outputs": [],
      "source": [
        "#compute porosity\n",
        "def compute_porosity_2d(img):\n",
        "    number_of_white_pix = np.sum(img == 1)  \n",
        "    number_of_black_pix = np.sum(img == 0)\n",
        "    porosity=number_of_black_pix/(number_of_white_pix+number_of_black_pix)\n",
        "    return(porosity)\n",
        "\n",
        "compute_porosity_2d(single_thresh)"
      ]
    },
    {
      "cell_type": "code",
      "execution_count": null,
      "metadata": {
        "id": "gWGFXuWApIsV"
      },
      "outputs": [],
      "source": [
        "plt.rcParams[\"figure.figsize\"] = (15,15)\n",
        "f, axarr = plt.subplots(2,2)\n",
        "\n",
        "axarr[0,0].imshow(single_thresh+lee94_skimage_skeleton, cmap='jet')\n",
        "axarr[0,0].set_title(\"Skeleton\")\n",
        "axarr[0,1].imshow(node_image+lee94_skimage_skeleton+single_thresh, cmap='inferno')\n",
        "axarr[0,1].set_title(\"Branch Nodes\")\n",
        "axarr[1,0].imshow(dist)\n",
        "axarr[1,0].set_title(\"Distance from nearest void\")\n",
        "axarr[1,1].imshow(dist*lee94_skimage_skeleton+single_thresh)\n",
        "axarr[1,1].set_title(\"Distance from nearest void (skeleton)\")"
      ]
    },
    {
      "cell_type": "code",
      "source": [
        "#branch path coords and thicknesses -> csv\n",
        "branch_path_coords=[]\n",
        "\n",
        "branch_thics=skan_skeleton.path_means()\n",
        "# refer https://jni.github.io/skan/api/skan.csr.html\n",
        "\n",
        "for i in range(len(branch_thics)):\n",
        "    path_arr=skan_skeleton.path_coordinates(i).tolist()\n",
        "    # print(path_arr.tolist())\n",
        "    #replace newlines**** w commas\n",
        "    branch_path_coords.append(path_arr)\n",
        "    # break\n",
        "\n",
        "branch_path_coords_and_thickness=pd.DataFrame(branch_thics, columns=['thickness'])\n",
        "branch_path_coords_and_thickness['path_coordinates']=branch_path_coords\n",
        "# branch_path_coords_and_thickness['thickness']=branch_thics\n",
        "\n",
        "branch_path_coords_and_thickness\n",
        "branch_path_coords_and_thickness.to_csv(\"branch_path_coords_and_thickness.csv\", index=False)"
      ],
      "metadata": {
        "id": "4V0MhA6UZCFJ"
      },
      "execution_count": null,
      "outputs": []
    },
    {
      "cell_type": "code",
      "source": [
        "#Thickness, src_x, src_y, dst_x, dst_y -> csv\n",
        "\n",
        "thickness_and_coordinates = pd.DataFrame(df['thickness'])\n",
        "thickness_and_coordinates['start_x']=df['src-x']\n",
        "thickness_and_coordinates['start_y']=df['src-y']\n",
        "thickness_and_coordinates['end_x']=df['dst-x']\n",
        "thickness_and_coordinates['end_y']=df['dst-y']\n",
        "\n",
        "thickness_and_coordinates.tail()\n",
        "thickness_and_coordinates.to_csv(\"thickness_and_endpoint_coordinates.csv\", index=False )"
      ],
      "metadata": {
        "id": "SZlcO-rievWU"
      },
      "execution_count": null,
      "outputs": []
    },
    {
      "cell_type": "markdown",
      "metadata": {
        "id": "lU4dxfV2NkQc"
      },
      "source": [
        "# 3D Analysis \n",
        "\n"
      ]
    },
    {
      "cell_type": "code",
      "source": [
        "!cp -r \"/content/drive/MyDrive/mydata/sea_urchin_data/Galleried suture 1.zip\" /content/"
      ],
      "metadata": {
        "id": "6YUMDZCT2EC7"
      },
      "execution_count": null,
      "outputs": []
    },
    {
      "cell_type": "code",
      "source": [
        "!unzip \"/content/Galleried suture 1.zip\" "
      ],
      "metadata": {
        "id": "AsqWdAyP2MuV"
      },
      "execution_count": null,
      "outputs": []
    },
    {
      "cell_type": "code",
      "execution_count": null,
      "metadata": {
        "id": "zYnBv7LNYXU0"
      },
      "outputs": [],
      "source": [
        "filelist = glob.glob('/content/Galleried suture 1/*.tiff') \n",
        "filename_prefix = filelist[0][:-8]\n",
        "filename_suffix = filelist[0][-5:]\n",
        "number_ids=[]\n",
        "\n",
        "for i in range(len(filelist)):\n",
        "    number_ids.append(int(filelist[i][-8:-5]))\n",
        "    filelist[i] = filelist[i][-8:-5]\n",
        "\n",
        "filelist.sort()\n",
        "sorted_filelist=[]\n",
        "\n",
        "for j in range(len(filelist)):\n",
        "    sorted_filelist.append(filename_prefix+filelist[j]+filename_suffix)\n",
        "\n",
        "val_seg = np.array([plt.imread(fname) for fname in sorted_filelist])"
      ]
    },
    {
      "cell_type": "code",
      "source": [
        "# show segmentation data\n",
        "images_to_show=np.array([val_seg])\n",
        "fig = px.imshow(images_to_show, \n",
        "                facet_col=0,\n",
        "                animation_frame=1,\n",
        "                color_continuous_scale =\"gray\")\n",
        "fig.show()"
      ],
      "metadata": {
        "id": "kzUUOO-_3uvA"
      },
      "execution_count": null,
      "outputs": []
    },
    {
      "cell_type": "code",
      "source": [
        "dist_trans_2d=ndimage.distance_transform_edt(val_seg[0], return_distances=True)\n",
        "dist_trans_3d=ndimage.distance_transform_edt(val_seg, return_distances=True)"
      ],
      "metadata": {
        "id": "5XsB13WvnbLF"
      },
      "execution_count": null,
      "outputs": []
    },
    {
      "cell_type": "code",
      "source": [
        "#show distance transfroms 2d and 3d\n",
        "images_to_show=np.array([dist_trans_2d, dist_trans_3d[0], dist_trans_2d-dist_trans_3d[0]])\n",
        "fig = px.imshow(images_to_show, \n",
        "                facet_col=0,)\n",
        "for i, label in enumerate(['2d distance transform', '3d distance transform', \"Difference\"]):\n",
        "    fig.layout.annotations[i]['text'] = label\n",
        "fig.show()"
      ],
      "metadata": {
        "id": "g7wEA8KHnr8S"
      },
      "execution_count": null,
      "outputs": []
    },
    {
      "cell_type": "code",
      "source": [
        "images_to_show=np.array([dist_trans_3d, val_seg])\n",
        "fig = px.imshow(images_to_show, \n",
        "                facet_col=0,\n",
        "                animation_frame=1)\n",
        "# for i, label in enumerate(['2d distance transform', '3d distance transform', \"Difference\"]):\n",
        "#     fig.layout.annotations[i]['text'] = label\n",
        "fig.show()"
      ],
      "metadata": {
        "id": "V1Z-TcYGsop2"
      },
      "execution_count": null,
      "outputs": []
    },
    {
      "cell_type": "code",
      "source": [
        "lee_3d_skimage_skeleton=skeletonize(val_seg, method='lee')\n",
        "lee_3d_skan_skeleton=Skeleton(lee_3d_skimage_skeleton)#*dist_trans_3d)\n",
        "df_3d=summarize(lee_3d_skan_skeleton)"
      ],
      "metadata": {
        "id": "SkpuEqtg4O3A"
      },
      "execution_count": null,
      "outputs": []
    },
    {
      "cell_type": "code",
      "source": [
        "df_3d = df_3d.rename(columns={'image-coord-src-0': 'src-z', \n",
        "                        'image-coord-src-1': 'src-y',\n",
        "                        'image-coord-src-2': 'src-x',\n",
        "                        'image-coord-dst-0': 'dst-z',\n",
        "                        'image-coord-dst-1': 'dst-y',\n",
        "                        'image-coord-dst-2': 'dst-x',\n",
        "                        'mean-pixel-value': 'thickness'})\n",
        "\n",
        "#drop columns\n",
        "df_3d.drop([#'mean-pixel-value',\n",
        "         'stdev-pixel-value',\n",
        "         'coord-src-0',\n",
        "         'coord-src-1',\n",
        "         'coord-dst-2',\n",
        "         'coord-dst-1'], axis=1, inplace=True)"
      ],
      "metadata": {
        "id": "NcxkxQLX29T2"
      },
      "execution_count": null,
      "outputs": []
    },
    {
      "cell_type": "code",
      "execution_count": null,
      "metadata": {
        "id": "QqkxTn74Ywup"
      },
      "outputs": [],
      "source": [
        "branches_3d = pd.DataFrame(df_3d['thickness'])\n",
        "branches_3d['source_node_id']=df_3d['node-id-src']\n",
        "branches_3d['destination_node_id']=df_3d['node-id-dst']\n",
        "branches_3d.to_csv(\"3d_branches_lee.csv\", index=False)\n",
        "branches_3d.tail()"
      ]
    },
    {
      "cell_type": "code",
      "source": [
        "nodes_1_3d = pd.DataFrame(df_3d[\"node-id-src\"])\n",
        "nodes_2_3d=pd.DataFrame(df_3d[\"node-id-dst\"])\n",
        "\n",
        "nodes_1_3d = nodes_1_3d.rename(columns={'node-id-src': 'node_id'})\n",
        "nodes_2_3d = nodes_2_3d.rename(columns={'node-id-dst': 'node_id'})\n",
        "\n",
        "nodes_1_3d[\"node_coordinate_x\"]=df_3d['src-x']\n",
        "nodes_1_3d[\"node_coordinate_y\"]=df_3d['src-y']\n",
        "nodes_1_3d[\"node_coordinate_z\"]=df_3d['src-z']\n",
        "\n",
        "nodes_2_3d[\"node_coordinate_x\"]=df_3d['dst-x']\n",
        "nodes_2_3d[\"node_coordinate_y\"]=df_3d['dst-y']\n",
        "nodes_2_3d[\"node_coordinate_z\"]=df_3d['dst-z']\n",
        "\n",
        "final_nodes_3d=nodes_1_3d.append(nodes_2_3d)\n",
        "\n",
        "final_nodes_3d=final_nodes_3d.drop_duplicates(subset=['node_id',], keep='last').reset_index()\n",
        "final_nodes_3d = final_nodes_3d.drop(['index'], axis=1)\n",
        "final_nodes_3d\n",
        "\n",
        "final_nodes_3d.to_csv(\"3d_nodes_lee.csv\", index=False)"
      ],
      "metadata": {
        "id": "iWOgD9su5H8I"
      },
      "execution_count": null,
      "outputs": []
    },
    {
      "cell_type": "code",
      "source": [
        "xs_3d=np.array(final_nodes_3d['node_coordinate_x'])\n",
        "ys_3d=np.array(final_nodes_3d['node_coordinate_y'])\n",
        "zs_3d=np.array(final_nodes_3d['node_coordinate_z'])\n",
        "node_image_3d = np.zeros([100,100,100], dtype=np.uint8)\n",
        "node_image_3d[zs_3d.astype(np.uint16), ys_3d.astype(np.uint16), xs_3d.astype(np.uint16)] = 4."
      ],
      "metadata": {
        "id": "yCgsZXNT505c"
      },
      "execution_count": null,
      "outputs": []
    },
    {
      "cell_type": "code",
      "source": [
        "# show thresh + nodes + skel as 2d slices\n",
        "images_to_show=np.array([lee_3d_skimage_skeleton+node_image_3d+val_seg])\n",
        "fig = px.imshow(images_to_show, \n",
        "                facet_col=0,\n",
        "                animation_frame=1,)\n",
        "fig.show()"
      ],
      "metadata": {
        "id": "mSO3ubhS6gRc"
      },
      "execution_count": null,
      "outputs": []
    },
    {
      "cell_type": "code",
      "source": [
        "# mpl static 2d projection of 3d skel\n",
        "fig = plt.figure()\n",
        "ax = fig.add_subplot(111, projection='3d')\n",
        "\n",
        "size = 21\n",
        "m = lee_3d_skimage_skeleton[:100]\n",
        "\n",
        "pos = np.where(m==1)\n",
        "ax.scatter(pos[0], pos[1], pos[2], c='green', alpha=0.1)\n",
        "plt.show()"
      ],
      "metadata": {
        "id": "okrwUYxMHxhi"
      },
      "execution_count": null,
      "outputs": []
    },
    {
      "cell_type": "code",
      "source": [
        "# 3d skel in plotly scatter\n",
        "fig = go.Figure(data=[go.Scatter3d(\n",
        "    x=pos[0],\n",
        "    y=pos[1],\n",
        "    z=pos[2],\n",
        "    mode='markers',\n",
        "    marker=dict(\n",
        "        size=2,\n",
        "        color=np.ones_like(pos[0]),         \n",
        "        colorscale='Viridis',  \n",
        "        opacity=0.6\n",
        "    )\n",
        ")])\n",
        "\n",
        "# tight layout\n",
        "fig.update_layout(margin=dict(l=0, r=0, b=0, t=0))\n",
        "fig.show()"
      ],
      "metadata": {
        "id": "T1H4BnQkLE1A"
      },
      "execution_count": null,
      "outputs": []
    },
    {
      "cell_type": "code",
      "source": [
        ""
      ],
      "metadata": {
        "id": "dbTIzXv6QKHc"
      },
      "execution_count": null,
      "outputs": []
    }
  ],
  "metadata": {
    "colab": {
      "collapsed_sections": [],
      "name": "skeletonize_and_extract_data.ipynb",
      "provenance": []
    },
    "kernelspec": {
      "display_name": "Python 3",
      "name": "python3"
    },
    "language_info": {
      "name": "python"
    }
  },
  "nbformat": 4,
  "nbformat_minor": 0
}