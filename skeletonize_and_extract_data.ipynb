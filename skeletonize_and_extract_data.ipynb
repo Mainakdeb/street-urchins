{
  "cells": [
    {
      "cell_type": "code",
      "execution_count": null,
      "metadata": {
        "id": "6VJXznzvYXj9"
      },
      "outputs": [],
      "source": [
        "!pip install SimpleITK\n",
        "!pip install skan #older version\n",
        "!pip install tifffile"
      ]
    },
    {
      "cell_type": "code",
      "execution_count": 6,
      "metadata": {
        "colab": {
          "base_uri": "https://localhost:8080/"
        },
        "id": "05WGjzzsYXhu",
        "outputId": "f81e2e11-25d5-4c2e-d956-646edc4a781f"
      },
      "outputs": [
        {
          "output_type": "stream",
          "name": "stdout",
          "text": [
            "Mounted at /content/drive\n"
          ]
        }
      ],
      "source": [
        "from google.colab import drive\n",
        "drive.mount('/content/drive')"
      ]
    },
    {
      "cell_type": "code",
      "execution_count": 27,
      "metadata": {
        "id": "Sa-Z9KfwYXct"
      },
      "outputs": [],
      "source": [
        "import SimpleITK as sitk\n",
        "from skimage.morphology import skeletonize, thin, medial_axis\n",
        "from skan import skeleton_to_csgraph, Skeleton\n",
        "from skan import summarize\n",
        "from skan import draw\n",
        "import tifffile as tiff\n",
        "\n",
        "import matplotlib.pyplot as plt\n",
        "import numpy as np\n",
        "import cv2\n",
        "import plotly.express as px"
      ]
    },
    {
      "cell_type": "code",
      "execution_count": 8,
      "metadata": {
        "id": "JdtvRuYPYXaO"
      },
      "outputs": [],
      "source": [
        "def load_img_from_tiff(path2img):\n",
        "    \"\"\"\n",
        "    Parameters\n",
        "    ----------\n",
        "    path2img: str \n",
        "        path to image Tiff file\n",
        "    \n",
        "    Returns\n",
        "    -------\n",
        "    img_array: np.array\n",
        "        image data in numpy format\n",
        "    \"\"\"\n",
        "    img = sitk.ReadImage(path2img)\n",
        "    img_array = sitk.GetArrayFromImage(img)\n",
        "    return(img_array)"
      ]
    },
    {
      "cell_type": "markdown",
      "source": [
        "Skeletonize single frame"
      ],
      "metadata": {
        "id": "05ysUVVFpFus"
      }
    },
    {
      "cell_type": "code",
      "execution_count": 17,
      "metadata": {
        "id": "MOOu1ofIYXXT"
      },
      "outputs": [],
      "source": [
        "single_thresh = load_img_from_tiff(\"/content/drive/MyDrive/mydata/sea_urchin_data/Test n.1\")\n",
        "\n",
        "# single_thresh = cv2.resize(single_thresh, dsize=(256,256), interpolation=cv2.INTER_CUBIC)\n",
        "\n",
        "single_thresh = single_thresh.astype('float64')\n",
        "single_thresh = (single_thresh - np.min(single_thresh))/np.ptp(single_thresh)\n",
        "skimage_skeleton, dist = medial_axis(single_thresh, return_distance=True)\n",
        "skan_skeleton = Skeleton(skimage_skeleton)\n",
        "df=summarize(skan_skeleton)\n",
        "# df.drop(df[df[\"branch-type\"] < 2].index, inplace=True)"
      ]
    },
    {
      "cell_type": "code",
      "source": [
        "#rename columns:\n",
        "df = df.rename(columns={'image-coord-src-0': 'src-y', \n",
        "                        'image-coord-src-1': 'src-x',\n",
        "                        'image-coord-dst-0': 'dst-y',\n",
        "                        'image-coord-dst-1': 'dst-x'})\n",
        "\n",
        "df.drop(['mean-pixel-value',\n",
        "         'stdev-pixel-value',\n",
        "         'coord-src-0',\n",
        "         'coord-src-1',\n",
        "         'coord-dst-0',\n",
        "         'coord-dst-1'], axis=1, inplace=True)\n",
        "df.head()\n",
        "df.to_csv(\"single_summary.csv\")\n"
      ],
      "metadata": {
        "id": "MLDQ0hxDpIue"
      },
      "execution_count": 18,
      "outputs": []
    },
    {
      "cell_type": "code",
      "source": [
        "plt.rcParams[\"figure.figsize\"] = (10,10)\n",
        "fig, ax = plt.subplots()\n",
        "plt.rcParams[\"figure.figsize\"] = (15,15)\n",
        "# draw.overlay_skeleton_2d(single_thresh, skimage_skeleton, dilate=1, axes=ax);\n",
        "plt.imshow(single_thresh+skimage_skeleton, cmap='jet')\n",
        "# plt.axis(\"off\")\n",
        "plt.title(\"Overlayed Skeleton\")"
      ],
      "metadata": {
        "id": "gWGFXuWApIsV"
      },
      "execution_count": null,
      "outputs": []
    },
    {
      "cell_type": "code",
      "source": [
        "#overlay nodes \n",
        "plt.rcParams[\"figure.figsize\"] = (10,10)\n",
        "res_st = cv2.resize(single_thresh, dsize=(256,256), interpolation=cv2.INTER_CUBIC)\n",
        "xs=np.array(df['src-x'])\n",
        "ys=np.array(df['src-y'])\n",
        "node_image = np.zeros([305,305], dtype=np.uint8)\n",
        "# print(node_image.shape)\n",
        "node_image[ys.astype(np.uint16), xs.astype(np.uint16)] = 4.\n",
        "plt.imshow(node_image+skimage_skeleton+single_thresh)\n",
        "plt.title(\"Overlayed Skeleton and Nodes\")\n",
        "# plt.scatter(ys,xs)"
      ],
      "metadata": {
        "id": "13Sur7I3pIpv"
      },
      "execution_count": null,
      "outputs": []
    },
    {
      "cell_type": "code",
      "source": [
        "px.imshow(dist, color_continuous_scale =\"viridis\")"
      ],
      "metadata": {
        "id": "3d14LA8apInQ"
      },
      "execution_count": null,
      "outputs": []
    },
    {
      "cell_type": "markdown",
      "source": [
        "Skeletonize multiple Z slices\n",
        "\n"
      ],
      "metadata": {
        "id": "lU4dxfV2NkQc"
      }
    },
    {
      "cell_type": "code",
      "execution_count": null,
      "metadata": {
        "id": "zYnBv7LNYXU0"
      },
      "outputs": [],
      "source": [
        "path = \"/content/drive/MyDrive/mydata/sea_urchin_data/3D/Galleria Piastra Modello 1 100x100 Echi1-10x.tif\"\n",
        "data = load_img_from_tiff(path)\n",
        "for i in range(len(data)):\n",
        "    data[i] = data[i]*(255.0/data[i].max())"
      ]
    },
    {
      "cell_type": "code",
      "execution_count": null,
      "metadata": {
        "id": "0_RPugMhYXSk"
      },
      "outputs": [],
      "source": [
        "blurred_data = np.zeros_like(data)\n",
        "for i in range(len(blurred_data)):\n",
        "    blurred_data[i] = cv2.GaussianBlur(data[i], (3,3),3)\n",
        "\n",
        "thresholded_data = np.zeros_like(data)\n",
        "for i in range(len(thresholded_data)):\n",
        "    bin, thresholded_data[i] = cv2.threshold(blurred_data[i],175, 255, cv2.THRESH_BINARY)\n",
        "\n",
        "medial_axis_skel = np.zeros_like(data)\n",
        "for i in range(len(thresholded_data)):\n",
        "    # skel, distance = medial_axis(thresholded_data[i], return_distance=True)\n",
        "    # dist_on_skel = distance * skel\n",
        "    # medial_axis_skel[i]=skel\n",
        "    skel = skeletonize(thresholded_data[i]//255)\n",
        "    medial_axis_skel[i]=skel"
      ]
    },
    {
      "cell_type": "code",
      "source": [
        "skan_skel = Skeleton(medial_axis_skel)\n",
        "df=summarize(skan_skel)\n",
        "df.to_csv(\"z_slices_summary.csv\")\n",
        "#drop brances with length < 2\n",
        "# df.drop(df[df[\"branch-distance\"] < 2].index, inplace=True)\n",
        "df"
      ],
      "metadata": {
        "id": "1YQBUZUVNoYr"
      },
      "execution_count": null,
      "outputs": []
    }
  ],
  "metadata": {
    "colab": {
      "collapsed_sections": [],
      "name": "skeletonize_and_extract_data.ipynb",
      "provenance": []
    },
    "kernelspec": {
      "display_name": "Python 3",
      "name": "python3"
    },
    "language_info": {
      "name": "python"
    }
  },
  "nbformat": 4,
  "nbformat_minor": 0
}