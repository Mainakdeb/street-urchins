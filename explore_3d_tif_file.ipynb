{
  "nbformat": 4,
  "nbformat_minor": 0,
  "metadata": {
    "colab": {
      "name": "explore_3d_tif_file.ipynb",
      "provenance": [],
      "collapsed_sections": []
    },
    "kernelspec": {
      "name": "python3",
      "display_name": "Python 3"
    },
    "language_info": {
      "name": "python"
    }
  },
  "cells": [
    {
      "cell_type": "code",
      "metadata": {
        "id": "KaVGg6freU4B"
      },
      "source": [
        "!pip install plotly==5.3.1"
      ],
      "execution_count": null,
      "outputs": []
    },
    {
      "cell_type": "code",
      "metadata": {
        "id": "HZmjrJHuSRiy"
      },
      "source": [
        "!pip install SimpleITK"
      ],
      "execution_count": null,
      "outputs": []
    },
    {
      "cell_type": "code",
      "metadata": {
        "id": "3PNcPgWWNKlG"
      },
      "source": [
        "!pip install skan"
      ],
      "execution_count": null,
      "outputs": []
    },
    {
      "cell_type": "code",
      "metadata": {
        "id": "aecyFp1aR2r4"
      },
      "source": [
        "from PIL import Image\n",
        "import matplotlib.pyplot as plt\n",
        "import numpy as np\n",
        "import os\n",
        "import cv2\n",
        "import SimpleITK as sitk\n",
        "import plotly.express as px\n",
        "import plotly.graph_objects as go\n",
        "import math\n",
        "from skimage.morphology import skeletonize, thin, medial_axis\n"
      ],
      "execution_count": null,
      "outputs": []
    },
    {
      "cell_type": "code",
      "metadata": {
        "id": "B0m2MyPxSHYp"
      },
      "source": [
        "def load_img_from_tiff(path2img):\n",
        "    img = sitk.ReadImage(path2img)\n",
        "    img_array = sitk.GetArrayFromImage(img)\n",
        "    return(img_array)"
      ],
      "execution_count": null,
      "outputs": []
    },
    {
      "cell_type": "code",
      "metadata": {
        "id": "-Ic56PVCQiQm"
      },
      "source": [
        "path = \"/content/drive/MyDrive/mydata/sea_urchin_data/3D/Galleria Piastra Modello 1 100x100 Echi1-10x.tif\"\n",
        "data = load_img_from_tiff(path)\n",
        "plt.imshow(data[0])"
      ],
      "execution_count": null,
      "outputs": []
    },
    {
      "cell_type": "code",
      "metadata": {
        "id": "ri2vLoJDM7Pb"
      },
      "source": [
        "for i in range(len(data)):\n",
        "    data[i] = data[i]*(255.0/data[i].max())\n",
        "# px.imshow(data[0])"
      ],
      "execution_count": null,
      "outputs": []
    },
    {
      "cell_type": "code",
      "metadata": {
        "id": "rwQinV0QSN5R"
      },
      "source": [
        "# show all z axis slices of raw image\n",
        "# fig = px.imshow(data, animation_frame=0, binary_string=True, labels=dict(animation_frame=\"slice\"))\n",
        "# fig.show()"
      ],
      "execution_count": null,
      "outputs": []
    },
    {
      "cell_type": "code",
      "metadata": {
        "id": "omMu9HnDSHUu"
      },
      "source": [
        "blurred_data = np.zeros_like(data)\n",
        "for i in range(len(blurred_data)):\n",
        "    blurred_data[i] = cv2.GaussianBlur(data[i], (3,3),3)\n",
        "\n",
        "# plt.imshow(blurred_data[0])\n",
        "# plt.show()\n",
        "\n",
        "thresholded_data = np.zeros_like(data)\n",
        "for i in range(len(thresholded_data)):\n",
        "    bin, thresholded_data[i] = cv2.threshold(blurred_data[i],185, 255, cv2.THRESH_BINARY)\n",
        "\n",
        "# plt.imshow(thresholded_data[0])\n",
        "# plt.show()\n",
        "\n",
        "# skeleton = skeletonize(thresholded_data, method=\"lee\") lees method, no need\n",
        "\n",
        "medial_axis_skel = np.zeros_like(data)\n",
        "for i in range(len(thresholded_data)):\n",
        "    \n",
        "    skel, distance = medial_axis(thresholded_data[i], return_distance=True)\n",
        "    dist_on_skel = distance * skel\n",
        "    medial_axis_skel[i]=skel"
      ],
      "execution_count": null,
      "outputs": []
    },
    {
      "cell_type": "code",
      "metadata": {
        "id": "2FGMVYphUoUE"
      },
      "source": [
        "im_3 = np.array([thresholded_data,medial_axis_skel*255])\n",
        "fig = px.imshow(im_3, \n",
        "                animation_frame=1, \n",
        "                facet_col=0, \n",
        "                color_continuous_scale =\"gray\")\n",
        "# fig.show()"
      ],
      "execution_count": null,
      "outputs": []
    },
    {
      "cell_type": "code",
      "metadata": {
        "id": "dH0Cq-KKJ3uJ"
      },
      "source": [
        "from skan import skeleton_to_csgraph\n",
        "pixel_graph, coordinates, degrees = skeleton_to_csgraph(medial_axis_skel)"
      ],
      "execution_count": 62,
      "outputs": []
    },
    {
      "cell_type": "code",
      "metadata": {
        "id": "c1wRXZ4HPPwL"
      },
      "source": [
        "im_4 = np.array([thresholded_data//255,degrees])\n",
        "fig = px.imshow(im_4, \n",
        "                animation_frame=1, \n",
        "                facet_col=0, \n",
        "                )\n",
        "fig.show()"
      ],
      "execution_count": null,
      "outputs": []
    },
    {
      "cell_type": "code",
      "metadata": {
        "id": "_oZgVHDK1stf"
      },
      "source": [
        "!mkdir animation3"
      ],
      "execution_count": null,
      "outputs": []
    },
    {
      "cell_type": "code",
      "metadata": {
        "id": "biKK4g8OR2Qf"
      },
      "source": [
        "#sbs matplotlib, large output warning!\n",
        "plt.rcParams['figure.figsize'] =14, 5\n",
        "\n",
        "for i in range(len(data)):\n",
        "    fig, (ax1, ax2, ax3, ax4) = plt.subplots(1, 4)\n",
        "    ax1.imshow(data[i], cmap='gray')\n",
        "    ax1.set_xlabel(\"Raw image  z-axis slice: \"+str(i+1))\n",
        "    ax2.imshow(blurred_data[i], cmap='gray')\n",
        "    ax2.set_xlabel(\"Gaussian blurred\")\n",
        "    ax3.imshow(thresholded_data[i], cmap='gray')\n",
        "    ax3.set_xlabel(\"Thresholded\")\n",
        "    ax4.imshow(medial_axis_skel[i]*255, cmap='gray')\n",
        "    ax4.set_xlabel(\"Medial axis\")\n",
        "    savename=\"/content/animation3/\"+str(i)+\".png\"\n",
        "    fig.savefig(savename)\n"
      ],
      "execution_count": null,
      "outputs": []
    },
    {
      "cell_type": "code",
      "metadata": {
        "id": "0SuyU_gk2PvM"
      },
      "source": [
        "!zip -r animation3.zip animation3/"
      ],
      "execution_count": null,
      "outputs": []
    },
    {
      "cell_type": "code",
      "metadata": {
        "id": "4ZOiXagEXViN"
      },
      "source": [
        ""
      ],
      "execution_count": null,
      "outputs": []
    }
  ]
}