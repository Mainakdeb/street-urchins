{
  "nbformat": 4,
  "nbformat_minor": 0,
  "metadata": {
    "colab": {
      "name": "explore_3d_tif_file.ipynb",
      "provenance": [],
      "collapsed_sections": []
    },
    "kernelspec": {
      "display_name": "Python 3",
      "name": "python3"
    },
    "language_info": {
      "name": "python"
    }
  },
  "cells": [
    {
      "cell_type": "code",
      "metadata": {
        "id": "c_W2fGzdF8fi"
      },
      "source": [
        "!pip install plotly==5.3.1\n",
        "!pip install SimpleITK\n",
        "!pip install skan==0.9 #older version"
      ],
      "execution_count": null,
      "outputs": []
    },
    {
      "cell_type": "code",
      "metadata": {
        "id": "S4QiGhamF8dS"
      },
      "source": [
        "from PIL import Image\n",
        "import matplotlib.pyplot as plt\n",
        "import numpy as np\n",
        "import os\n",
        "import cv2\n",
        "import SimpleITK as sitk\n",
        "import plotly.express as px\n",
        "import plotly.graph_objects as go\n",
        "import math\n",
        "from skimage.morphology import skeletonize, thin, medial_axis\n",
        "from skan import skeleton_to_csgraph\n",
        "from skimage import measure\n",
        "from mpl_toolkits.mplot3d.art3d import Poly3DCollection\n",
        "import plotly.figure_factory as ff\n",
        "from plotly.offline import download_plotlyjs, init_notebook_mode, plot, iplot"
      ],
      "execution_count": 2,
      "outputs": []
    },
    {
      "cell_type": "code",
      "metadata": {
        "id": "jZOSs93GF8YL"
      },
      "source": [
        "def load_img_from_tiff(path2img):\n",
        "    img = sitk.ReadImage(path2img)\n",
        "    img_array = sitk.GetArrayFromImage(img)\n",
        "    return(img_array)"
      ],
      "execution_count": 3,
      "outputs": []
    },
    {
      "cell_type": "code",
      "metadata": {
        "id": "B3x8t1sxF8Vp"
      },
      "source": [
        "path = \"/content/drive/MyDrive/mydata/sea_urchin_data/3D/Galleria Piastra Modello 1 100x100 Echi1-10x.tif\"\n",
        "data = load_img_from_tiff(path)\n",
        "for i in range(len(data)):\n",
        "    data[i] = data[i]*(255.0/data[i].max())"
      ],
      "execution_count": 4,
      "outputs": []
    },
    {
      "cell_type": "code",
      "metadata": {
        "id": "v9Ys046gF8TB"
      },
      "source": [
        "blurred_data = np.zeros_like(data)\n",
        "for i in range(len(blurred_data)):\n",
        "    blurred_data[i] = cv2.GaussianBlur(data[i], (3,3),3)\n",
        "\n",
        "thresholded_data = np.zeros_like(data)\n",
        "for i in range(len(thresholded_data)):\n",
        "    bin, thresholded_data[i] = cv2.threshold(blurred_data[i],185, 255, cv2.THRESH_BINARY)\n",
        "\n",
        "medial_axis_skel = np.zeros_like(data)\n",
        "for i in range(len(thresholded_data)):\n",
        "    skel, distance = medial_axis(thresholded_data[i], return_distance=True)\n",
        "    dist_on_skel = distance * skel\n",
        "    medial_axis_skel[i]=skel\n",
        "\n",
        "pixel_graph, coordinates, degrees =  skeleton_to_csgraph(medial_axis_skel)"
      ],
      "execution_count": 58,
      "outputs": []
    },
    {
      "cell_type": "code",
      "metadata": {
        "id": "qoJMKdeEnX7A"
      },
      "source": [
        "#contours and curvature heatmap\n",
        "contour_arr=np.zeros_like(data)\n",
        "perimeter_coordinates=[]\n",
        "contour_area_thresh=5\n",
        "for i in range(len(contour_arr)):\n",
        "    contours, hierarcy = cv2.findContours(thresholded_data[i].astype(np.uint8), cv2.RETR_EXTERNAL, cv2.CHAIN_APPROX_NONE)\n",
        "    drawn_contours=cv2.drawContours(contour_arr[i].copy(), contours, -1, (255), 1)\n",
        "    \n",
        "    peri_sub=[]\n",
        "    for cnt in contours:\n",
        "        area = cv2.contourArea(cnt)\n",
        "        if area>contour_area_thresh:\n",
        "            contour_arr[i]=drawn_contours\n",
        "            peri_sub.append(np.array(cnt))\n",
        "    perimeter_coordinates.append(peri_sub)"
      ],
      "execution_count": 60,
      "outputs": []
    },
    {
      "cell_type": "code",
      "metadata": {
        "id": "t4YiUIoiGpbh"
      },
      "source": [
        "#contour heatmap\n",
        "def define_circle(p1, p2, p3):\n",
        "    \"\"\"\n",
        "    Returns the center, radius and curvature of the circle passing the given 3 points.\n",
        "    In case the 3 points form a line, returns (None, infinity).\n",
        "    \"\"\"\n",
        "    temp = p2[0] * p2[0] + p2[1] * p2[1]\n",
        "    bc = (p1[0] * p1[0] + p1[1] * p1[1] - temp) / 2\n",
        "    cd = (temp - p3[0] * p3[0] - p3[1] * p3[1]) / 2\n",
        "    det = (p1[0] - p2[0]) * (p2[1] - p3[1]) - (p2[0] - p3[0]) * (p1[1] - p2[1])\n",
        "\n",
        "    if abs(det) < 1.0e-6:\n",
        "        return (None, np.inf, 0)\n",
        "\n",
        "    # Center of circle\n",
        "    cx = (bc*(p2[1] - p3[1]) - cd*(p1[1] - p2[1])) / det\n",
        "    cy = ((p1[0] - p2[0]) * cd - (p2[0] - p3[0]) * bc) / det\n",
        "\n",
        "    radius = np.sqrt((cx - p1[0])**2 + (cy - p1[1])**2)\n",
        "    curvature=1/radius\n",
        "    return ((cx, cy), radius, curvature)\n",
        "\n",
        "def frame_2_contour_heatmap(frame, perimeter_coordinates):\n",
        "    curvature_arr=[]\n",
        "    corresp_coordinate=[]\n",
        "    kernel=2\n",
        "\n",
        "    for list_of_coordinates in perimeter_coordinates:\n",
        "        temp=[]\n",
        "        for i in range(len(list_of_coordinates)):\n",
        "            low, center, high = i-kernel, i, i+kernel\n",
        "            center, radius, curvature=define_circle(tuple(list_of_coordinates[low][0]), \n",
        "                                                    tuple(list_of_coordinates[center][0]),\n",
        "                                                    tuple(list_of_coordinates[high%len(list_of_coordinates)][0])) #index rolls over at end of arr\n",
        "            curvature_arr.append(curvature)\n",
        "            # print(curvature)\n",
        "            corresp_coordinate.append(list(list_of_coordinates[i][0]))\n",
        "\n",
        "    curvature_heatmap=np.zeros_like(frame)\n",
        "    for i in range(len(corresp_coordinate)):\n",
        "        c1, c2=corresp_coordinate[i][0],corresp_coordinate[i][1]\n",
        "        curvature_heatmap[c2,c1]=curvature_arr[i]\n",
        "        print(curvature_arr[i])\n",
        "    return(curvature_heatmap)\n",
        "\n",
        "heatmap=frame_2_contour_heatmap(contour_arr[0], perimeter_coordinates[0])\n"
      ],
      "execution_count": null,
      "outputs": []
    },
    {
      "cell_type": "code",
      "metadata": {
        "id": "TlZgvpmCF8Qq"
      },
      "source": [
        "im_3 = np.array([heatmap*100])\n",
        "fig = px.imshow(im_3, \n",
        "                facet_col=0,\n",
        "                color_continuous_scale =\"turbo\")\n",
        "fig.show()\n",
        "\n",
        "#something wrong with generated heatmap, nly kernel 1 barely works"
      ],
      "execution_count": null,
      "outputs": []
    },
    {
      "cell_type": "code",
      "metadata": {
        "id": "fzQdwwE1F8OJ"
      },
      "source": [
        "def make_mesh(image, step_size=1):\n",
        "    print(\"Transposing surface\")\n",
        "    p = image.transpose(2,1,0)\n",
        "    print(\"Calculating surface\")\n",
        "    verts, faces, norm, val = measure.marching_cubes_lewiner(p,step_size=step_size, allow_degenerate=True)\n",
        "    return verts, faces\n",
        "\n",
        "\n",
        "def plotly_3d(verts, faces):\n",
        "    x,y,z = zip(*verts) \n",
        "    \n",
        "    print(\"Drawing\")\n",
        "    \n",
        "    # Make the colormap single color since the axes are positional not intensity. \n",
        "#    colormap=['rgb(255,105,180)','rgb(255,255,51)','rgb(0,191,255)']\n",
        "    colormap=['rgb(128,255,128)','rgb(255,128,128)']\n",
        "    \n",
        "    fig = ff.create_trisurf(x=x, y=y, z=z, plot_edges=False,\n",
        "                        colormap=colormap,\n",
        "                        simplices=faces,\n",
        "                        #backgroundcolor='rgb(64, 64, 64)',\n",
        "                        title=\"3D mesh\")\n",
        "    fig.update_layout(scene = dict(zaxis = dict(nticks=4, range=[-1,100])))\n",
        "    iplot(fig)\n",
        "\n",
        "def plt_3d(verts, faces):\n",
        "    print(\"Drawing\")\n",
        "    x,y,z = zip(*verts) \n",
        "    fig = plt.figure(figsize=(10, 10))\n",
        "    ax = fig.add_subplot(111, projection='3d')\n",
        "\n",
        "    # Fancy indexing: `verts[faces]` to generate a collection of triangles\n",
        "    mesh = Poly3DCollection(verts[faces], linewidths=0.01, alpha=1)\n",
        "    face_color = [1, 1, 1]\n",
        "    mesh.set_facecolor(face_color)\n",
        "    ax.add_collection3d(mesh)\n",
        "\n",
        "    ax.set_xlim(0, max(x))\n",
        "    ax.set_ylim(0, max(y))\n",
        "    ax.set_zlim(0, max(z))\n",
        "#     ax.set_axis_bgcolor((0.7, 0.7, 0.7))\n",
        "    ax.set_facecolor((0.7,0.7,0.7))\n",
        "    plt.show()"
      ],
      "execution_count": null,
      "outputs": []
    },
    {
      "cell_type": "code",
      "metadata": {
        "id": "BAyw2vphF8Lq"
      },
      "source": [
        "v, f = make_mesh(medial_axis_skel[:10])\n",
        "plotly_3d(v, f)"
      ],
      "execution_count": null,
      "outputs": []
    },
    {
      "cell_type": "code",
      "metadata": {
        "id": "QRFde4uOIm6n"
      },
      "source": [
        "!mkdir animation3"
      ],
      "execution_count": null,
      "outputs": []
    },
    {
      "cell_type": "code",
      "metadata": {
        "id": "yRLr3GXjF8JS"
      },
      "source": [
        "#sbs matplotlib, large output warning!\n",
        "plt.rcParams['figure.figsize'] =14, 5\n",
        "\n",
        "for i in range(len(data)):\n",
        "    fig, (ax1, ax2, ax3, ax4) = plt.subplots(1, 4)\n",
        "    ax1.imshow(data[i], cmap='gray')\n",
        "    ax1.set_xlabel(\"Raw image  z-axis slice: \"+str(i+1))\n",
        "    ax2.imshow(blurred_data[i], cmap='gray')\n",
        "    ax2.set_xlabel(\"Gaussian blurred\")\n",
        "    ax3.imshow(thresholded_data[i], cmap='gray')\n",
        "    ax3.set_xlabel(\"Thresholded\")\n",
        "    ax4.imshow(medial_axis_skel[i]*255, cmap='gray')\n",
        "    ax4.set_xlabel(\"Medial axis\")\n",
        "    savename=\"/content/animation3/\"+str(i)+\".png\"\n",
        "    fig.savefig(savename)"
      ],
      "execution_count": null,
      "outputs": []
    },
    {
      "cell_type": "code",
      "metadata": {
        "id": "F3aBCcqQF8Gz"
      },
      "source": [
        "!zip -r animation3.zip animation3/"
      ],
      "execution_count": null,
      "outputs": []
    },
    {
      "cell_type": "code",
      "metadata": {
        "id": "Aw9mDIfHGU94"
      },
      "source": [
        ""
      ],
      "execution_count": null,
      "outputs": []
    }
  ]
}