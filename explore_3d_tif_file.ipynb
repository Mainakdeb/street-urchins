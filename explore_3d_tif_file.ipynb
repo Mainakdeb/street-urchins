{
  "nbformat": 4,
  "nbformat_minor": 0,
  "metadata": {
    "colab": {
      "name": "explore_3d_tif_file.ipynb",
      "provenance": [],
      "collapsed_sections": []
    },
    "kernelspec": {
      "name": "python3",
      "display_name": "Python 3"
    },
    "language_info": {
      "name": "python"
    }
  },
  "cells": [
    {
      "cell_type": "code",
      "metadata": {
        "id": "KaVGg6freU4B"
      },
      "source": [
        "!pip install plotly==5.3.1"
      ],
      "execution_count": null,
      "outputs": []
    },
    {
      "cell_type": "code",
      "metadata": {
        "id": "HZmjrJHuSRiy"
      },
      "source": [
        "!pip install SimpleITK"
      ],
      "execution_count": null,
      "outputs": []
    },
    {
      "cell_type": "code",
      "metadata": {
        "id": "aecyFp1aR2r4"
      },
      "source": [
        "from PIL import Image\n",
        "import matplotlib.pyplot as plt\n",
        "import numpy as np\n",
        "import os\n",
        "import cv2\n",
        "import SimpleITK as sitk\n",
        "import plotly.express as px\n",
        "import plotly.graph_objects as go\n",
        "import math"
      ],
      "execution_count": 3,
      "outputs": []
    },
    {
      "cell_type": "code",
      "metadata": {
        "id": "B0m2MyPxSHYp"
      },
      "source": [
        "def load_img_from_tiff(path2img):\n",
        "    img = sitk.ReadImage(path2img)\n",
        "    img_array = sitk.GetArrayFromImage(img)\n",
        "    return(img_array)"
      ],
      "execution_count": 4,
      "outputs": []
    },
    {
      "cell_type": "code",
      "metadata": {
        "id": "-Ic56PVCQiQm"
      },
      "source": [
        "path = \"/content/drive/MyDrive/mydata/sea_urchin_data/3D/Galleria Piastra Modello 1 100x100 Echi1-10x.tif\"\n",
        "data = load_img_from_tiff(path)\n",
        "plt.imshow(data[0])"
      ],
      "execution_count": null,
      "outputs": []
    },
    {
      "cell_type": "code",
      "metadata": {
        "id": "CrRl89rbM0bU"
      },
      "source": [
        "data[0]"
      ],
      "execution_count": null,
      "outputs": []
    },
    {
      "cell_type": "code",
      "metadata": {
        "id": "ri2vLoJDM7Pb"
      },
      "source": [
        "for i in range(len(data)):\n",
        "    data[i] = data[i]*(255.0/data[i].max())\n",
        "px.imshow(data[0])"
      ],
      "execution_count": null,
      "outputs": []
    },
    {
      "cell_type": "code",
      "metadata": {
        "id": "rwQinV0QSN5R"
      },
      "source": [
        "fig = px.imshow(data, animation_frame=0, binary_string=True, labels=dict(animation_frame=\"slice\"))\n",
        "fig.show()"
      ],
      "execution_count": null,
      "outputs": []
    },
    {
      "cell_type": "code",
      "metadata": {
        "id": "omMu9HnDSHUu"
      },
      "source": [
        "blurred_data = np.zeros_like(data)\n",
        "for i in range(len(blurred_data)):\n",
        "    blurred_data[i] = cv2.GaussianBlur(data[i], (3,3),3)\n",
        "\n",
        "# plt.imshow(blurred_data[0])\n",
        "# plt.show()\n",
        "\n",
        "thresholded_data = np.zeros_like(data)\n",
        "for i in range(len(thresholded_data)):\n",
        "    bin, thresholded_data[i] = cv2.threshold(blurred_data[i],185, 255, cv2.THRESH_BINARY)\n",
        "\n",
        "# plt.imshow(thresholded_data[0])\n",
        "# plt.show()"
      ],
      "execution_count": 9,
      "outputs": []
    },
    {
      "cell_type": "code",
      "metadata": {
        "id": "U9hlznatRmvE"
      },
      "source": [
        "im_2 = np.array([data, blurred_data, thresholded_data])\n",
        "fig = px.imshow(im_2, \n",
        "                animation_frame=1, \n",
        "                facet_col=0, \n",
        "                color_continuous_scale =\"gray\")\n",
        "fig.show()"
      ],
      "execution_count": null,
      "outputs": []
    },
    {
      "cell_type": "code",
      "metadata": {
        "id": "_oZgVHDK1stf"
      },
      "source": [
        "!mkdir animation"
      ],
      "execution_count": 12,
      "outputs": []
    },
    {
      "cell_type": "code",
      "metadata": {
        "id": "biKK4g8OR2Qf"
      },
      "source": [
        "#sbs matplotlib, large output warning!\n",
        "plt.rcParams['figure.figsize'] =14, 5\n",
        "\n",
        "for i in range(len(data)):\n",
        "    fig, (ax1, ax2, ax3) = plt.subplots(1, 3)\n",
        "    ax1.imshow(data[i], cmap='gray')\n",
        "    ax1.set_xlabel(\"Raw image  z-axis slice: \"+str(i+1))\n",
        "    ax2.imshow(blurred_data[i], cmap='gray')\n",
        "    ax2.set_xlabel(\"Gaussian blurred\")\n",
        "    ax3.imshow(thresholded_data[i], cmap='gray')\n",
        "    ax3.set_xlabel(\"Thresholded\")\n",
        "    savename=\"/content/animation/\"+str(i)+\".png\"\n",
        "    fig.savefig(savename)"
      ],
      "execution_count": null,
      "outputs": []
    },
    {
      "cell_type": "code",
      "metadata": {
        "id": "0SuyU_gk2PvM"
      },
      "source": [
        "!zip -r animation.zip animation/"
      ],
      "execution_count": null,
      "outputs": []
    },
    {
      "cell_type": "code",
      "metadata": {
        "id": "rmQQMER7M1OG"
      },
      "source": [
        "#contour not useful, archived\n",
        "contour_arr = np.zeros_like(data)\n",
        "\n",
        "for i in range(len(thresholded_data)):\n",
        "    contours, hierarcy = cv2.findContours(thresholded_data[i].astype(np.uint8), cv2.RETR_EXTERNAL, cv2.CHAIN_APPROX_NONE)\n",
        "    contour_arr[i]=cv2.drawContours(np.zeros_like(contour_arr[0]), contours, -1, (255), 1)\n",
        "\n",
        "#canny edges\n",
        "canny_arr = np.zeros_like(data)\n",
        "\n",
        "for i in range(len(thresholded_data)):\n",
        "    canny_arr[i]=cv2.Canny(thresholded_data[i], 185, 185, 5)\n",
        "\n",
        "plt.imshow(canny_arr[0])"
      ],
      "execution_count": null,
      "outputs": []
    },
    {
      "cell_type": "code",
      "metadata": {
        "id": "4ZOiXagEXViN"
      },
      "source": [
        ""
      ],
      "execution_count": null,
      "outputs": []
    }
  ]
}