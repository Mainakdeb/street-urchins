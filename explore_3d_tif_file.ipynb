{
  "nbformat": 4,
  "nbformat_minor": 0,
  "metadata": {
    "colab": {
      "name": "explore_3d_tif_file.ipynb",
      "provenance": [],
      "collapsed_sections": []
    },
    "kernelspec": {
      "display_name": "Python 3",
      "name": "python3"
    },
    "language_info": {
      "name": "python"
    }
  },
  "cells": [
    {
      "cell_type": "code",
      "metadata": {
        "id": "c_W2fGzdF8fi"
      },
      "source": [
        "!pip install plotly==5.3.1\n",
        "!pip install SimpleITK\n",
        "!pip install skan"
      ],
      "execution_count": null,
      "outputs": []
    },
    {
      "cell_type": "code",
      "metadata": {
        "id": "S4QiGhamF8dS"
      },
      "source": [
        "from PIL import Image\n",
        "import matplotlib.pyplot as plt\n",
        "import numpy as np\n",
        "import os\n",
        "import cv2\n",
        "import SimpleITK as sitk\n",
        "import plotly.express as px\n",
        "import plotly.graph_objects as go\n",
        "import math\n",
        "from skimage.morphology import skeletonize, thin, medial_axis\n",
        "from skan import skeleton_to_csgraph\n",
        "from skimage import measure\n",
        "from mpl_toolkits.mplot3d.art3d import Poly3DCollection\n",
        "import plotly.figure_factory as ff\n",
        "from plotly.offline import download_plotlyjs, init_notebook_mode, plot, iplot"
      ],
      "execution_count": 3,
      "outputs": []
    },
    {
      "cell_type": "code",
      "metadata": {
        "id": "jZOSs93GF8YL"
      },
      "source": [
        "def load_img_from_tiff(path2img):\n",
        "    img = sitk.ReadImage(path2img)\n",
        "    img_array = sitk.GetArrayFromImage(img)\n",
        "    return(img_array)"
      ],
      "execution_count": 4,
      "outputs": []
    },
    {
      "cell_type": "code",
      "metadata": {
        "id": "B3x8t1sxF8Vp"
      },
      "source": [
        "path = \"/content/drive/MyDrive/mydata/sea_urchin_data/3D/Galleria Piastra Modello 1 100x100 Echi1-10x.tif\"\n",
        "data = load_img_from_tiff(path)\n",
        "for i in range(len(data)):\n",
        "    data[i] = data[i]*(255.0/data[i].max())"
      ],
      "execution_count": 5,
      "outputs": []
    },
    {
      "cell_type": "code",
      "metadata": {
        "id": "v9Ys046gF8TB"
      },
      "source": [
        "blurred_data = np.zeros_like(data)\n",
        "for i in range(len(blurred_data)):\n",
        "    blurred_data[i] = cv2.GaussianBlur(data[i], (3,3),3)\n",
        "\n",
        "thresholded_data = np.zeros_like(data)\n",
        "for i in range(len(thresholded_data)):\n",
        "    bin, thresholded_data[i] = cv2.threshold(blurred_data[i],185, 255, cv2.THRESH_BINARY)\n",
        "\n",
        "medial_axis_skel = np.zeros_like(data)\n",
        "for i in range(len(thresholded_data)):\n",
        "    skel, distance = medial_axis(thresholded_data[i], return_distance=True)\n",
        "    dist_on_skel = distance * skel\n",
        "    medial_axis_skel[i]=skel"
      ],
      "execution_count": 6,
      "outputs": []
    },
    {
      "cell_type": "code",
      "metadata": {
        "id": "TlZgvpmCF8Qq"
      },
      "source": [
        "pixel_graph, coordinates, degrees = Z(medial_axis_skel)\n",
        "im_3 = np.array([degrees])\n",
        "fig = px.imshow(im_3, \n",
        "                animation_frame=1, \n",
        "                facet_col=0, \n",
        "                color_continuous_scale =\"gray\",\n",
        "                title=\"Skeletonized\")\n",
        "fig.show()"
      ],
      "execution_count": null,
      "outputs": []
    },
    {
      "cell_type": "code",
      "metadata": {
        "id": "fzQdwwE1F8OJ"
      },
      "source": [
        "def make_mesh(image, step_size=1):\n",
        "\n",
        "    print(\"Transposing surface\")\n",
        "    p = image.transpose(2,1,0)\n",
        "    \n",
        "    print(\"Calculating surface\")\n",
        "    verts, faces, norm, val = measure.marching_cubes_lewiner(p,step_size=step_size, allow_degenerate=True)\n",
        "    return verts, faces\n",
        "\n",
        "\n",
        "def plotly_3d(verts, faces):\n",
        "    x,y,z = zip(*verts) \n",
        "    \n",
        "    print(\"Drawing\")\n",
        "    \n",
        "    # Make the colormap single color since the axes are positional not intensity. \n",
        "#    colormap=['rgb(255,105,180)','rgb(255,255,51)','rgb(0,191,255)']\n",
        "    colormap=['rgb(128,255,128)','rgb(255,128,128)']\n",
        "    \n",
        "    fig = ff.create_trisurf(x=x, y=y, z=z, plot_edges=False,\n",
        "                        colormap=colormap,\n",
        "                        simplices=faces,\n",
        "                        #backgroundcolor='rgb(64, 64, 64)',\n",
        "                        title=\"3D mesh\")\n",
        "    fig.update_layout(scene = dict(zaxis = dict(nticks=4, range=[-1,100])))\n",
        "    iplot(fig)\n",
        "\n",
        "def plt_3d(verts, faces):\n",
        "    print(\"Drawing\")\n",
        "    x,y,z = zip(*verts) \n",
        "    fig = plt.figure(figsize=(10, 10))\n",
        "    ax = fig.add_subplot(111, projection='3d')\n",
        "\n",
        "    # Fancy indexing: `verts[faces]` to generate a collection of triangles\n",
        "    mesh = Poly3DCollection(verts[faces], linewidths=0.01, alpha=1)\n",
        "    face_color = [1, 1, 1]\n",
        "    mesh.set_facecolor(face_color)\n",
        "    ax.add_collection3d(mesh)\n",
        "\n",
        "    ax.set_xlim(0, max(x))\n",
        "    ax.set_ylim(0, max(y))\n",
        "    ax.set_zlim(0, max(z))\n",
        "#     ax.set_axis_bgcolor((0.7, 0.7, 0.7))\n",
        "    ax.set_facecolor((0.7,0.7,0.7))\n",
        "    plt.show()"
      ],
      "execution_count": 14,
      "outputs": []
    },
    {
      "cell_type": "code",
      "metadata": {
        "id": "BAyw2vphF8Lq"
      },
      "source": [
        "v, f = make_mesh(medial_axis_skel[:10])\n",
        "plotly_3d(v, f)"
      ],
      "execution_count": null,
      "outputs": []
    },
    {
      "cell_type": "code",
      "metadata": {
        "id": "QRFde4uOIm6n"
      },
      "source": [
        "!mkdir animation3"
      ],
      "execution_count": null,
      "outputs": []
    },
    {
      "cell_type": "code",
      "metadata": {
        "id": "yRLr3GXjF8JS"
      },
      "source": [
        "#sbs matplotlib, large output warning!\n",
        "plt.rcParams['figure.figsize'] =14, 5\n",
        "\n",
        "for i in range(len(data)):\n",
        "    fig, (ax1, ax2, ax3, ax4) = plt.subplots(1, 4)\n",
        "    ax1.imshow(data[i], cmap='gray')\n",
        "    ax1.set_xlabel(\"Raw image  z-axis slice: \"+str(i+1))\n",
        "    ax2.imshow(blurred_data[i], cmap='gray')\n",
        "    ax2.set_xlabel(\"Gaussian blurred\")\n",
        "    ax3.imshow(thresholded_data[i], cmap='gray')\n",
        "    ax3.set_xlabel(\"Thresholded\")\n",
        "    ax4.imshow(medial_axis_skel[i]*255, cmap='gray')\n",
        "    ax4.set_xlabel(\"Medial axis\")\n",
        "    savename=\"/content/animation3/\"+str(i)+\".png\"\n",
        "    fig.savefig(savename)"
      ],
      "execution_count": null,
      "outputs": []
    },
    {
      "cell_type": "code",
      "metadata": {
        "id": "F3aBCcqQF8Gz"
      },
      "source": [
        "!zip -r animation3.zip animation3/\n"
      ],
      "execution_count": null,
      "outputs": []
    }
  ]
}