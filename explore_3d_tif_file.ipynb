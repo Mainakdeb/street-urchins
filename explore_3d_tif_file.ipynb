{
  "cells": [
    {
      "cell_type": "code",
      "execution_count": null,
      "metadata": {
        "id": "c_W2fGzdF8fi"
      },
      "outputs": [],
      "source": [
        "!pip install plotly==5.3.1\n",
        "!pip install SimpleITK\n",
        "!pip install skan #older version"
      ]
    },
    {
      "cell_type": "code",
      "execution_count": null,
      "metadata": {
        "id": "OyW7e_2aoS75"
      },
      "outputs": [],
      "source": [
        "!pip install tifffile"
      ]
    },
    {
      "cell_type": "code",
      "execution_count": null,
      "metadata": {
        "id": "p8irEHqIhPUu"
      },
      "outputs": [],
      "source": [
        "#copy and extract valentinas seg data\n",
        "!cp -r /content/drive/MyDrive/mydata/sea_urchin_data/3D/val_segmentation.zip ./val_segmentation.zip\n",
        "!unzip ./val_segmentation.zip"
      ]
    },
    {
      "cell_type": "code",
      "execution_count": 4,
      "metadata": {
        "id": "-AMtX4bV-qhv"
      },
      "outputs": [],
      "source": [
        "!mkdir euc_skels #for storing euclidean skeleton figs"
      ]
    },
    {
      "cell_type": "code",
      "execution_count": 5,
      "metadata": {
        "id": "S4QiGhamF8dS"
      },
      "outputs": [],
      "source": [
        "from PIL import Image\n",
        "import matplotlib.pyplot as plt\n",
        "import numpy as np\n",
        "import os\n",
        "import cv2\n",
        "import SimpleITK as sitk\n",
        "import plotly.express as px\n",
        "import plotly.graph_objects as go\n",
        "import math\n",
        "from skimage.morphology import skeletonize, thin, medial_axis\n",
        "from skan import skeleton_to_csgraph, Skeleton\n",
        "from skan import summarize\n",
        "from skan import draw\n",
        "from skimage import measure\n",
        "from mpl_toolkits.mplot3d.art3d import Poly3DCollection\n",
        "import plotly.figure_factory as ff\n",
        "from plotly.offline import download_plotlyjs, init_notebook_mode, plot, iplot\n",
        "import tifffile as tiff\n",
        "import glob\n",
        "from tqdm import tqdm\n",
        "from IPython.display import clear_output"
      ]
    },
    {
      "cell_type": "code",
      "execution_count": 6,
      "metadata": {
        "id": "jZOSs93GF8YL"
      },
      "outputs": [],
      "source": [
        "def load_img_from_tiff(path2img):\n",
        "    img = sitk.ReadImage(path2img)\n",
        "    img_array = sitk.GetArrayFromImage(img)\n",
        "    return(img_array)"
      ]
    },
    {
      "cell_type": "code",
      "execution_count": 7,
      "metadata": {
        "id": "B3x8t1sxF8Vp"
      },
      "outputs": [],
      "source": [
        "path = \"/content/drive/MyDrive/mydata/sea_urchin_data/3D/Galleria Piastra Modello 1 100x100 Echi1-10x.tif\"\n",
        "data = load_img_from_tiff(path)\n",
        "for i in range(len(data)):\n",
        "    data[i] = data[i]*(255.0/data[i].max())"
      ]
    },
    {
      "cell_type": "code",
      "execution_count": 8,
      "metadata": {
        "id": "v9Ys046gF8TB"
      },
      "outputs": [],
      "source": [
        "blurred_data = np.zeros_like(data)\n",
        "for i in range(len(blurred_data)):\n",
        "    blurred_data[i] = cv2.GaussianBlur(data[i], (3,3),3)\n",
        "\n",
        "thresholded_data = np.zeros_like(data)\n",
        "for i in range(len(thresholded_data)):\n",
        "    bin, thresholded_data[i] = cv2.threshold(blurred_data[i],175, 255, cv2.THRESH_BINARY)\n",
        "\n",
        "medial_axis_skel = np.zeros_like(data)\n",
        "for i in range(len(thresholded_data)):\n",
        "    # skel, distance = medial_axis(thresholded_data[i], return_distance=True)\n",
        "    # dist_on_skel = distance * skel\n",
        "    # medial_axis_skel[i]=skel\n",
        "    skel = skeletonize(thresholded_data[i]//255)\n",
        "    medial_axis_skel[i]=skel\n",
        "\n",
        "pixel_graph, coordinates =  skeleton_to_csgraph(medial_axis_skel)\n",
        "#rescue degrees!\n",
        "#https://jni.github.io/skan/getting_started.html"
      ]
    },
    {
      "cell_type": "code",
      "execution_count": null,
      "metadata": {
        "id": "Ssa_P1JLYTXy"
      },
      "outputs": [],
      "source": [
        "#save numpy arr as tiff file\n",
        "tiff.imsave(\"threshold.tiff\", thresholded_data)\n",
        "test_data = load_img_from_tiff(\"threshold.tiff\")\n",
        "plt.imshow(test_data[0])"
      ]
    },
    {
      "cell_type": "code",
      "execution_count": null,
      "metadata": {
        "id": "-Or30y1Jiz1n"
      },
      "outputs": [],
      "source": [
        "#compare seg data sbs\n",
        "filelist = glob.glob('Segmentation/*.tiff') \n",
        "filename_prefix = filelist[0][:-8]\n",
        "filename_suffix = filelist[0][-5:]\n",
        "\n",
        "number_ids=[]\n",
        "\n",
        "for i in range(len(filelist)):\n",
        "    \n",
        "    number_ids.append(int(filelist[i][-8:-5]))\n",
        "    filelist[i] = filelist[i][-8:-5]\n",
        "\n",
        "filelist.sort()\n",
        "\n",
        "sorted_filelist=[]\n",
        "\n",
        "for j in range(len(filelist)):\n",
        "    sorted_filelist.append(filename_prefix+filelist[j]+filename_suffix)\n",
        "\n",
        "val_seg = np.array([plt.imread(fname) for fname in sorted_filelist])\n",
        "seg_images = np.array([val_seg*255, thresholded_data, data])\n",
        "fig = px.imshow(seg_images, \n",
        "                facet_col=0,\n",
        "                animation_frame=1,\n",
        "                color_continuous_scale =\"gray\")\n",
        "\n",
        "for i, label in enumerate(['Seg3D', 'OpenCV (Python)', \"Raw\"]):\n",
        "    fig.layout.annotations[i]['text'] = label\n",
        "\n",
        "fig.layout.template = 'plotly_dark'\n",
        "fig.show()"
      ]
    },
    {
      "cell_type": "code",
      "execution_count": 38,
      "metadata": {
        "id": "qoJMKdeEnX7A"
      },
      "outputs": [],
      "source": [
        "#contour heatmap\n",
        "contour_arr=np.zeros_like(data)\n",
        "perimeter_coordinates=[]\n",
        "contour_area_thresh=0\n",
        "for i in range(len(contour_arr)):\n",
        "    contours, hierarcy = cv2.findContours(thresholded_data[i].astype(np.uint8), cv2.RETR_EXTERNAL, cv2.CHAIN_APPROX_NONE)\n",
        "    drawn_contours=cv2.drawContours(contour_arr[i].copy(), contours, -1, (255), 1)\n",
        "    \n",
        "    peri_sub=[]\n",
        "    for cnt in contours:\n",
        "        area = cv2.contourArea(cnt)\n",
        "        if area>contour_area_thresh:\n",
        "            contour_arr[i]=drawn_contours\n",
        "            peri_sub.append(np.array(cnt))\n",
        "    perimeter_coordinates.append(peri_sub)"
      ]
    },
    {
      "cell_type": "code",
      "execution_count": 13,
      "metadata": {
        "id": "t4YiUIoiGpbh"
      },
      "outputs": [],
      "source": [
        "def define_circle(p1, p2, p3):\n",
        "    \"\"\"\n",
        "    Returns the center, radius and curvature of the circle passing the given 3 points.\n",
        "    In case the 3 points form a line, returns (None, infinity).\n",
        "    \"\"\"\n",
        "    temp = p2[0] * p2[0] + p2[1] * p2[1]\n",
        "    bc = (p1[0] * p1[0] + p1[1] * p1[1] - temp) / 2\n",
        "    cd = (temp - p3[0] * p3[0] - p3[1] * p3[1]) / 2\n",
        "    det = (p1[0] - p2[0]) * (p2[1] - p3[1]) - (p2[0] - p3[0]) * (p1[1] - p2[1])\n",
        "\n",
        "    if abs(det) < 1.0e-6:\n",
        "        return (None, np.inf, 0)\n",
        "\n",
        "    # Center of circle\n",
        "    cx = (bc*(p2[1] - p3[1]) - cd*(p1[1] - p2[1])) / det\n",
        "    cy = ((p1[0] - p2[0]) * cd - (p2[0] - p3[0]) * bc) / det\n",
        "\n",
        "    radius = np.sqrt((cx - p1[0])**2 + (cy - p1[1])**2)\n",
        "    curvature=1/radius\n",
        "    return ((cx, cy), radius, curvature)\n",
        "\n",
        "def frame_2_contour_heatmap(frame, perimeter_coordinates, curvature_scale_factor):\n",
        "    curvature_arr=[]\n",
        "    corresp_coordinate=[]\n",
        "    kernel=3\n",
        "    curvature_heatmap=np.zeros_like(frame)\n",
        "\n",
        "    for list_of_coordinates in perimeter_coordinates:\n",
        "        for i in range(len(list_of_coordinates)):\n",
        "            low, center, high = i-kernel, i, i+kernel\n",
        "            center, radius, curvature=define_circle(tuple(list_of_coordinates[low][0]), \n",
        "                                                    tuple(list_of_coordinates[center][0]),\n",
        "                                                    tuple(list_of_coordinates[high%len(list_of_coordinates)][0])) #index rolls over at end of arr\n",
        "            curvature_arr.append(curvature)\n",
        "            # print(curvature)\n",
        "            corresp_coordinate.append(list(list_of_coordinates[i][0]))\n",
        "    for i in range(len(corresp_coordinate)):\n",
        "        c1, c2=corresp_coordinate[i][0],corresp_coordinate[i][1]\n",
        "        pixel_value=curvature_arr[i]\n",
        "        curvature_heatmap[c2,c1]=pixel_value*curvature_scale_factor\n",
        "    # px.imshow(frame)\n",
        "    # fig.show()\n",
        "    return(curvature_heatmap)"
      ]
    },
    {
      "cell_type": "code",
      "execution_count": 14,
      "metadata": {
        "id": "TlZgvpmCF8Qq"
      },
      "outputs": [],
      "source": [
        "curvature_heatmap_arr=np.zeros_like(data)\n",
        "for i in range(len(curvature_heatmap_arr)):\n",
        "    heatmap=frame_2_contour_heatmap(frame=contour_arr[i], \n",
        "                                    perimeter_coordinates=perimeter_coordinates[i],\n",
        "                                    curvature_scale_factor=255)\n",
        "    curvature_heatmap_arr[i]=heatmap\n",
        "\n",
        "# im_3 = np.array([curvature_heatmap_arr])\n",
        "# fig = px.imshow(im_3, \n",
        "#                 facet_col=0,\n",
        "#                 animation_frame=1,\n",
        "#                 color_continuous_scale =\"turbo\")\n",
        "\n",
        "# for i, label in enumerate([\"Contour Curvatures\"]):\n",
        "#     fig.layout.annotations[i]['text'] = label\n",
        "\n",
        "# fig.layout.template = 'plotly_dark'\n",
        "# fig.show()\n",
        "\n",
        "#note: small area contours are ignored"
      ]
    },
    {
      "cell_type": "code",
      "source": [
        "#conv numpy skeleton to skl to summarize\n",
        "skan_skel = Skeleton(medial_axis_skel)\n",
        "skl=summarize(skan_skel)\n",
        "skl.to_csv(\"summary.csv\")"
      ],
      "metadata": {
        "id": "WNm92zyNYBoC"
      },
      "execution_count": 37,
      "outputs": []
    },
    {
      "cell_type": "code",
      "source": [
        "!rm -rf animation\n",
        "!mkdir animation"
      ],
      "metadata": {
        "id": "nsj2XkMHYCoN"
      },
      "execution_count": 32,
      "outputs": []
    },
    {
      "cell_type": "code",
      "execution_count": null,
      "metadata": {
        "id": "FxlJf9ZaelcA"
      },
      "outputs": [],
      "source": [
        "#euclidean skel plot for animation\n",
        "plt.rcParams['figure.figsize'] =15, 5\n",
        "\n",
        "for i in tqdm(range(len(data))):\n",
        "    fig, axarr = plt.subplots(1,4)\n",
        "    temp_skan_skel = Skeleton(medial_axis_skel[i])\n",
        "    temp_summary=summarize(temp_skan_skel)\n",
        "    draw.overlay_euclidean_skeleton_2d(medial_axis_skel[i], \n",
        "                                    temp_summary, \n",
        "                                    skeleton_color_source='branch-distance', \n",
        "                                    axes=axarr[3])\n",
        "    axarr[3].set_title(\"Euclidean Skeleton\", fontsize=12)\n",
        "    axarr[2].imshow(medial_axis_skel[i], cmap='gray')\n",
        "    axarr[2].set_title(\"Medial Axis Skeleton\", fontsize=12)\n",
        "    axarr[2].axis(\"off\")\n",
        "\n",
        "    # axarr[2].imshow(curvature_heatmap_arr[0], cmap='jet')\n",
        "    # axarr[2].set_title(\"Curvature Heatmap\", fontsize=12)\n",
        "    # axarr[2].axis(\"off\")\n",
        "\n",
        "    axarr[1].imshow(thresholded_data[i], cmap='gray')\n",
        "    axarr[1].set_title(\"Thresholded Image\", fontsize=12)\n",
        "    axarr[1].axis(\"off\")\n",
        "    axarr[0].imshow(data[i], cmap='gray')\n",
        "    axarr[0].set_title(\"Raw Image - slice \"+str(i), fontsize=12)\n",
        "    axarr[0].axis(\"off\")\n",
        "    clear_output(wait=True)\n",
        "\n",
        "    savename=\"/content/animation/\"+str(i)+\".png\"\n",
        "    fig.savefig(savename)\n",
        "# plt.savefig(\"euc_skels/\"+str(i)+\".png\")"
      ]
    },
    {
      "cell_type": "code",
      "source": [
        "!zip -r animation.zip animation/"
      ],
      "metadata": {
        "id": "_y6QMbgsY4Lt"
      },
      "execution_count": null,
      "outputs": []
    },
    {
      "cell_type": "code",
      "execution_count": null,
      "metadata": {
        "id": "fzQdwwE1F8OJ"
      },
      "outputs": [],
      "source": [
        "def make_mesh(image, step_size=1):\n",
        "    print(\"Transposing surface\")\n",
        "    p = image.transpose(2,1,0)\n",
        "    print(\"Calculating surface\")\n",
        "    verts, faces, norm, val = measure.marching_cubes_lewiner(p,step_size=step_size, allow_degenerate=True)\n",
        "    return verts, faces\n",
        "\n",
        "\n",
        "def plotly_3d(verts, faces):\n",
        "    x,y,z = zip(*verts) \n",
        "    \n",
        "    print(\"Drawing\")\n",
        "    \n",
        "    # Make the colormap single color since the axes are positional not intensity. \n",
        "#    colormap=['rgb(255,105,180)','rgb(255,255,51)','rgb(0,191,255)']\n",
        "    colormap=['rgb(128,255,128)','rgb(255,128,128)']\n",
        "    \n",
        "    fig = ff.create_trisurf(x=x, y=y, z=z, plot_edges=False,\n",
        "                        colormap=colormap,\n",
        "                        simplices=faces,\n",
        "                        #backgroundcolor='rgb(64, 64, 64)',\n",
        "                        title=\"3D mesh\")\n",
        "    fig.update_layout(scene = dict(zaxis = dict(nticks=4, range=[-1,100])))\n",
        "    iplot(fig)\n",
        "\n",
        "def plt_3d(verts, faces):\n",
        "    print(\"Drawing\")\n",
        "    x,y,z = zip(*verts) \n",
        "    fig = plt.figure(figsize=(10, 10))\n",
        "    ax = fig.add_subplot(111, projection='3d')\n",
        "\n",
        "    # Fancy indexing: `verts[faces]` to generate a collection of triangles\n",
        "    mesh = Poly3DCollection(verts[faces], linewidths=0.01, alpha=1)\n",
        "    face_color = [1, 1, 1]\n",
        "    mesh.set_facecolor(face_color)\n",
        "    ax.add_collection3d(mesh)\n",
        "\n",
        "    ax.set_xlim(0, max(x))\n",
        "    ax.set_ylim(0, max(y))\n",
        "    ax.set_zlim(0, max(z))\n",
        "#     ax.set_axis_bgcolor((0.7, 0.7, 0.7))\n",
        "    ax.set_facecolor((0.7,0.7,0.7))\n",
        "    plt.show()"
      ]
    },
    {
      "cell_type": "code",
      "execution_count": null,
      "metadata": {
        "id": "BAyw2vphF8Lq"
      },
      "outputs": [],
      "source": [
        "v, f = make_mesh(medial_axis_skel[:10])\n",
        "plotly_3d(v, f)"
      ]
    },
    {
      "cell_type": "code",
      "execution_count": null,
      "metadata": {
        "colab": {
          "background_save": true
        },
        "id": "Aw9mDIfHGU94"
      },
      "outputs": [],
      "source": [
        ""
      ]
    }
  ],
  "metadata": {
    "colab": {
      "collapsed_sections": [],
      "name": "explore_3d_tif_file.ipynb",
      "provenance": []
    },
    "kernelspec": {
      "display_name": "Python 3",
      "name": "python3"
    },
    "language_info": {
      "name": "python"
    }
  },
  "nbformat": 4,
  "nbformat_minor": 0
}